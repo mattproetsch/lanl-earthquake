{
 "cells": [
  {
   "cell_type": "markdown",
   "metadata": {},
   "source": [
    "# Test `earthquake_input_fn.earthquake_input_fn`"
   ]
  },
  {
   "cell_type": "code",
   "execution_count": 1,
   "metadata": {},
   "outputs": [],
   "source": [
    "import tensorflow as tf\n",
    "tf.enable_eager_execution()\n",
    "sess = tf.InteractiveSession()\n",
    "from importlib import reload\n",
    "import numpy as np\n",
    "import matplotlib.pyplot as plt"
   ]
  },
  {
   "cell_type": "code",
   "execution_count": 2,
   "metadata": {},
   "outputs": [],
   "source": [
    "EARTHQUAKE_DATA_DIR = '/workspace/persistent-data/earthquake/tfrecords2'"
   ]
  },
  {
   "cell_type": "code",
   "execution_count": 3,
   "metadata": {},
   "outputs": [],
   "source": [
    "def reload_tf():\n",
    "    global lstm_estimator\n",
    "    global earthquake_input_fn\n",
    "    for i in range(2):\n",
    "        import lstm_estimator\n",
    "        import earthquake_input_fn\n",
    "        reload(lstm_estimator)\n",
    "        reload(earthquake_input_fn)\n",
    "        del lstm_estimator\n",
    "        del earthquake_input_fn\n",
    "    import lstm_estimator\n",
    "    import earthquake_input_fn"
   ]
  },
  {
   "cell_type": "code",
   "execution_count": 18,
   "metadata": {},
   "outputs": [],
   "source": [
    "reload_tf()"
   ]
  },
  {
   "cell_type": "code",
   "execution_count": 14,
   "metadata": {},
   "outputs": [],
   "source": [
    "BATCH_SIZE = 24\n",
    "TIMESTEPS = 32\n",
    "N_sub_batches = int(4096 / TIMESTEPS)"
   ]
  },
  {
   "cell_type": "code",
   "execution_count": 19,
   "metadata": {},
   "outputs": [],
   "source": [
    "dataset = earthquake_input_fn.earthquake_input_fn2(EARTHQUAKE_DATA_DIR, BATCH_SIZE, TIMESTEPS, ['1e0'], 'train', eager=True)"
   ]
  },
  {
   "cell_type": "code",
   "execution_count": 28,
   "metadata": {},
   "outputs": [],
   "source": [
    "PULL_BATCHES = 50"
   ]
  },
  {
   "cell_type": "code",
   "execution_count": 29,
   "metadata": {},
   "outputs": [],
   "source": [
    "feats = np.ndarray((PULL_BATCHES * BATCH_SIZE, 4096))\n",
    "labels = np.ndarray((PULL_BATCHES * BATCH_SIZE, 4096))\n",
    "\n",
    "for sbi, (dsfeats, dslabels) in enumerate(dataset.take(PULL_BATCHES * N_sub_batches)):\n",
    "    batch_num = int(sbi / N_sub_batches)\n",
    "    ts_idx = int(sbi % N_sub_batches)\n",
    "    feats[BATCH_SIZE * batch_num:BATCH_SIZE * (batch_num + 1),\n",
    "          ts_idx * TIMESTEPS:(ts_idx+1)*TIMESTEPS] = dsfeats['acousticdata'].numpy().copy()\n",
    "    labels[BATCH_SIZE * batch_num:BATCH_SIZE * (batch_num + 1),\n",
    "           ts_idx*TIMESTEPS:(ts_idx+1)*TIMESTEPS] = dslabels.numpy().copy()"
   ]
  },
  {
   "cell_type": "code",
   "execution_count": 30,
   "metadata": {},
   "outputs": [
    {
     "data": {
      "text/plain": [
       "array([[ 4., 10.,  8., ...,  2.,  3.,  3.],\n",
       "       [ 4.,  6., 11., ...,  6.,  7.,  0.],\n",
       "       [ 5., 13., 12., ...,  3.,  1., -2.],\n",
       "       ...,\n",
       "       [ 5.,  7., 12., ...,  6., 11.,  8.],\n",
       "       [ 3.,  6.,  4., ...,  0.,  7.,  4.],\n",
       "       [ 4.,  8.,  9., ...,  6.,  6.,  7.]])"
      ]
     },
     "execution_count": 30,
     "metadata": {},
     "output_type": "execute_result"
    }
   ],
   "source": [
    "feats"
   ]
  },
  {
   "cell_type": "code",
   "execution_count": 31,
   "metadata": {},
   "outputs": [
    {
     "data": {
      "text/plain": [
       "array([[-2.62349999, -2.62349999, -2.62349999, ..., -2.62349549,\n",
       "        -2.62349549, -2.62349549],\n",
       "       [-2.28619999, -2.28619999, -2.28619999, ..., -2.28619549,\n",
       "        -2.28619549, -2.28619549],\n",
       "       [-2.4495    , -2.4495    , -2.4495    , ..., -2.4494955 ,\n",
       "        -2.4494955 , -2.4494955 ],\n",
       "       ...,\n",
       "       [-1.15449999, -1.15449999, -1.15449999, ..., -1.15449549,\n",
       "        -1.15449549, -1.15449549],\n",
       "       [-1.2411    , -1.2411    , -1.2411    , ..., -1.2410955 ,\n",
       "        -1.2410955 , -1.2410955 ],\n",
       "       [-2.60579999, -2.60579999, -2.60579999, ..., -2.60579549,\n",
       "        -2.60579549, -2.60579549]])"
      ]
     },
     "execution_count": 31,
     "metadata": {},
     "output_type": "execute_result"
    }
   ],
   "source": [
    "labels"
   ]
  },
  {
   "cell_type": "code",
   "execution_count": 32,
   "metadata": {},
   "outputs": [
    {
     "data": {
      "text/plain": [
       "(1200, 4096)"
      ]
     },
     "execution_count": 32,
     "metadata": {},
     "output_type": "execute_result"
    }
   ],
   "source": [
    "feats.shape"
   ]
  },
  {
   "cell_type": "code",
   "execution_count": 33,
   "metadata": {},
   "outputs": [
    {
     "data": {
      "text/plain": [
       "(1200, 4096)"
      ]
     },
     "execution_count": 33,
     "metadata": {},
     "output_type": "execute_result"
    }
   ],
   "source": [
    "labels.shape"
   ]
  },
  {
   "cell_type": "code",
   "execution_count": 34,
   "metadata": {},
   "outputs": [
    {
     "data": {
      "text/plain": [
       "(array([ 28672.,  16384.,  20480.,   4096.,  12288.,  12288.,  20480.,\n",
       "         20480.,  12288.,  28672.,  16384.,   8192.,  16384.,  12288.,\n",
       "         24576.,  20480.,   8192.,  28672.,   4096.,   8192.,  24576.,\n",
       "         20480.,  16384.,  20480.,  20480.,  16384.,  36864.,  28672.,\n",
       "         32768.,  24576.,  32768.,  49152.,  24576.,  36864.,  24576.,\n",
       "         24576.,  32768.,  57344.,  49152.,  49152.,  49152.,  32768.,\n",
       "         36864.,  49152.,  24576.,  45056.,  53248.,  53248.,  36864.,\n",
       "         45056.,  40960.,  24576.,  49152.,  77824.,  24576.,  86016.,\n",
       "         28672.,  61440.,  61440.,  40960.,  45056.,  69632.,  40960.,\n",
       "         49152.,  69632.,  65536.,  77824.,  45056.,  61440.,  53248.,\n",
       "         49152.,  53248.,  36864.,  40960.,  57344.,  57344.,  86016.,\n",
       "         73728.,  58181.,  89275.,  73728.,  98304.,  49152.,  69632.,\n",
       "         90112.,  98304.,  69632., 118784., 102400., 126976.,  90112.,\n",
       "         86016.,  69632.,  69632.,  86016., 114688., 143360., 114688.,\n",
       "         90112., 106496.]),\n",
       " array([-0.99426449, -0.97432251, -0.95438054, -0.93443856, -0.91449659,\n",
       "        -0.89455461, -0.87461263, -0.85467066, -0.83472868, -0.81478671,\n",
       "        -0.79484473, -0.77490275, -0.75496078, -0.7350188 , -0.71507683,\n",
       "        -0.69513485, -0.67519288, -0.6552509 , -0.63530892, -0.61536695,\n",
       "        -0.59542497, -0.575483  , -0.55554102, -0.53559904, -0.51565707,\n",
       "        -0.49571509, -0.47577312, -0.45583114, -0.43588916, -0.41594719,\n",
       "        -0.39600521, -0.37606324, -0.35612126, -0.33617928, -0.31623731,\n",
       "        -0.29629533, -0.27635336, -0.25641138, -0.23646941, -0.21652743,\n",
       "        -0.19658545, -0.17664348, -0.1567015 , -0.13675953, -0.11681755,\n",
       "        -0.09687557, -0.0769336 , -0.05699162, -0.03704965, -0.01710767,\n",
       "         0.00283431,  0.02277628,  0.04271826,  0.06266023,  0.08260221,\n",
       "         0.10254419,  0.12248616,  0.14242814,  0.16237011,  0.18231209,\n",
       "         0.20225407,  0.22219604,  0.24213802,  0.26207999,  0.28202197,\n",
       "         0.30196394,  0.32190592,  0.3418479 ,  0.36178987,  0.38173185,\n",
       "         0.40167382,  0.4216158 ,  0.44155778,  0.46149975,  0.48144173,\n",
       "         0.5013837 ,  0.52132568,  0.54126766,  0.56120963,  0.58115161,\n",
       "         0.60109358,  0.62103556,  0.64097754,  0.66091951,  0.68086149,\n",
       "         0.70080346,  0.72074544,  0.74068741,  0.76062939,  0.78057137,\n",
       "         0.80051334,  0.82045532,  0.84039729,  0.86033927,  0.88028125,\n",
       "         0.90022322,  0.9201652 ,  0.94010717,  0.96004915,  0.97999113,\n",
       "         0.9999331 ]),\n",
       " <a list of 100 Patch objects>)"
      ]
     },
     "execution_count": 34,
     "metadata": {},
     "output_type": "execute_result"
    },
    {
     "data": {
      "image/png": "[encoded data removed]",
      "text/plain": [
       "<Figure size 432x288 with 1 Axes>"
      ]
     },
     "metadata": {
      "needs_background": "light"
     },
     "output_type": "display_data"
    }
   ],
   "source": [
    "#plt.hist(labels.reshape(-1), bins=100)\n",
    "plt.hist(np.log(-labels.reshape(-1)), bins=100)"
   ]
  },
  {
   "cell_type": "markdown",
   "metadata": {},
   "source": [
    "# OK..."
   ]
  },
  {
   "cell_type": "markdown",
   "metadata": {},
   "source": [
    "* Feature preprocessing: cepstral coefficients?\n",
    "* How many sub-networks do we need?\n",
    "* How to decide on scale value (logspace)?\n",
    "* What is the distribution of scale values?"
   ]
  },
  {
   "cell_type": "code",
   "execution_count": null,
   "metadata": {},
   "outputs": [],
   "source": []
  }
 ],
 "metadata": {
  "kernelspec": {
   "display_name": "Python 3",
   "language": "python",
   "name": "python3"
  },
  "language_info": {
   "codemirror_mode": {
    "name": "ipython",
    "version": 3
   },
   "file_extension": ".py",
   "mimetype": "text/x-python",
   "name": "python",
   "nbconvert_exporter": "python",
   "pygments_lexer": "ipython3",
   "version": "3.5.2"
  }
 },
 "nbformat": 4,
 "nbformat_minor": 2
}

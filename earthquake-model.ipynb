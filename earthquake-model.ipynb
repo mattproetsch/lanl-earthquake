{
 "cells": [
  {
   "cell_type": "markdown",
   "metadata": {},
   "source": [
    "# Create and run Earthquake Estimator"
   ]
  },
  {
   "cell_type": "code",
   "execution_count": 1,
   "metadata": {},
   "outputs": [
    {
     "name": "stdout",
     "output_type": "stream",
     "text": [
      "Mon Jan 21 21:17:27 2019       \n",
      "+-----------------------------------------------------------------------------+\n",
      "| NVIDIA-SMI 410.79       Driver Version: 410.79       CUDA Version: 10.0     |\n",
      "|-------------------------------+----------------------+----------------------+\n",
      "| GPU  Name        Persistence-M| Bus-Id        Disp.A | Volatile Uncorr. ECC |\n",
      "| Fan  Temp  Perf  Pwr:Usage/Cap|         Memory-Usage | GPU-Util  Compute M. |\n",
      "|===============================+======================+======================|\n",
      "|   0  Tesla P100-PCIE...  Off  | 00000000:81:00.0 Off |                    0 |\n",
      "| N/A   37C    P0    27W / 250W |      0MiB / 16280MiB |      0%      Default |\n",
      "+-------------------------------+----------------------+----------------------+\n",
      "                                                                               \n",
      "+-----------------------------------------------------------------------------+\n",
      "| Processes:                                                       GPU Memory |\n",
      "|  GPU       PID   Type   Process name                             Usage      |\n",
      "|=============================================================================|\n",
      "|  No running processes found                                                 |\n",
      "+-----------------------------------------------------------------------------+\n"
     ]
    }
   ],
   "source": [
    "!nvidia-smi"
   ]
  },
  {
   "cell_type": "code",
   "execution_count": 2,
   "metadata": {},
   "outputs": [],
   "source": [
    "import tensorflow as tf\n",
    "import lstm_estimator\n",
    "import earthquake_input_fn\n",
    "from importlib import reload\n",
    "import time\n",
    "import os\n",
    "import numpy as np\n",
    "import matplotlib.pyplot as plt\n",
    "import pandas as pd\n",
    "%matplotlib inline"
   ]
  },
  {
   "cell_type": "code",
   "execution_count": 3,
   "metadata": {},
   "outputs": [],
   "source": [
    "EARTHQUAKE_DATA_DIR = '/workspace/persistent-data/earthquake/tfrecords2'"
   ]
  },
  {
   "cell_type": "code",
   "execution_count": 4,
   "metadata": {},
   "outputs": [],
   "source": [
    "def reload_tf():\n",
    "    global lstm_estimator\n",
    "    global earthquake_input_fn\n",
    "    for i in range(2):\n",
    "        import lstm_estimator\n",
    "        import earthquake_input_fn\n",
    "        reload(lstm_estimator)\n",
    "        reload(earthquake_input_fn)\n",
    "        del lstm_estimator\n",
    "        del earthquake_input_fn\n",
    "    import lstm_estimator\n",
    "    import earthquake_input_fn"
   ]
  },
  {
   "cell_type": "code",
   "execution_count": 5,
   "metadata": {},
   "outputs": [],
   "source": [
    "reload_tf()"
   ]
  },
  {
   "cell_type": "code",
   "execution_count": 6,
   "metadata": {},
   "outputs": [],
   "source": [
    "def create_estimator_from_params(batch_size, timesteps, n_feats, feature_columns,\n",
    "                                 lstm_cell_size, learning_rate, dropout_rate=0.5, label_input_column=None, model_dir=None):\n",
    "    \n",
    "    params = {\n",
    "        'batch_size': batch_size,\n",
    "        'timesteps': timesteps,\n",
    "        'n_feats': n_feats,\n",
    "        'feature_columns': feature_columns,\n",
    "        'lstm_cell_size': lstm_cell_size,\n",
    "        'learning_rate': learning_rate,\n",
    "        'dropout_rate': dropout_rate,\n",
    "        'label_input_column': label_input_column\n",
    "    }\n",
    "    if model_dir is None:\n",
    "        model_dir = '/workspace/persistent-data/models/%s' % (time.strftime('%Y-%m-%d-%H-%M-%S'))\n",
    "    estim = tf.estimator.Estimator(model_fn=lstm_estimator.lstm_model_fn,\n",
    "                                   params=params,\n",
    "                                   model_dir=model_dir)\n",
    "    return estim"
   ]
  },
  {
   "cell_type": "code",
   "execution_count": 9,
   "metadata": {},
   "outputs": [],
   "source": [
    "BATCH_SIZE=64\n",
    "TIMESTEPS=32\n",
    "LSTM_CELL_SIZE=[128, 64]\n",
    "LEARNING_RATE=0.000075"
   ]
  },
  {
   "cell_type": "code",
   "execution_count": 10,
   "metadata": {},
   "outputs": [
    {
     "name": "stdout",
     "output_type": "stream",
     "text": [
      "INFO:tensorflow:Using default config.\n",
      "INFO:tensorflow:Using config: {'_cluster_spec': <tensorflow.python.training.server_lib.ClusterSpec object at 0x7f2e63782ba8>, '_tf_random_seed': None, '_is_chief': True, '_model_dir': '/workspace/persistent-data/models/2019-01-21-21-18-12', '_protocol': None, '_session_config': allow_soft_placement: true\n",
      "graph_options {\n",
      "  rewrite_options {\n",
      "    meta_optimizer_iterations: ONE\n",
      "  }\n",
      "}\n",
      ", '_log_step_count_steps': 100, '_num_ps_replicas': 0, '_task_id': 0, '_master': '', '_train_distribute': None, '_task_type': 'worker', '_save_checkpoints_steps': None, '_global_id_in_cluster': 0, '_keep_checkpoint_every_n_hours': 10000, '_eval_distribute': None, '_device_fn': None, '_save_summary_steps': 100, '_save_checkpoints_secs': 600, '_experimental_distribute': None, '_num_worker_replicas': 1, '_keep_checkpoint_max': 5, '_service': None, '_evaluation_master': ''}\n"
     ]
    }
   ],
   "source": [
    "estimator = create_estimator_from_params(batch_size=BATCH_SIZE,\n",
    "                                         timesteps=TIMESTEPS,\n",
    "                                         n_feats=1,\n",
    "                                         feature_columns=[tf.feature_column.numeric_column(key='acousticdata',\n",
    "                                                                                           dtype=tf.int64,\n",
    "                                                                                           shape=(BATCH_SIZE, TIMESTEPS))],\n",
    "                                         lstm_cell_size=LSTM_CELL_SIZE,\n",
    "                                         learning_rate=LEARNING_RATE)"
   ]
  },
  {
   "cell_type": "code",
   "execution_count": null,
   "metadata": {},
   "outputs": [
    {
     "name": "stdout",
     "output_type": "stream",
     "text": [
      "running estimator for 169344 steps\n",
      "INFO:tensorflow:Calling model_fn.\n",
      "FEATURES\n",
      "{'acousticdata': <tf.Tensor 'IteratorGetNext:0' shape=(?, ?) dtype=int64>}\n",
      "LABELS\n",
      "Tensor(\"IteratorGetNext:1\", shape=(?, ?), dtype=float64, device=/device:CPU:0)\n",
      "MODE\n",
      "train\n",
      "PARAMS\n",
      "{'batch_size': 64, 'learning_rate': 7.5e-05, 'timesteps': 32, 'n_feats': 1, 'feature_columns': [_NumericColumn(key='acousticdata', shape=(64, 32), default_value=None, dtype=tf.int64, normalizer_fn=None)], 'dropout_rate': 0.5, 'label_input_column': None, 'lstm_cell_size': [128, 64]}\n",
      "[<tf.Tensor 'Assign:0' shape=(64, 128) dtype=float64_ref>, <tf.Tensor 'Assign_1:0' shape=(64, 128) dtype=float64_ref>, <tf.Tensor 'Assign_2:0' shape=(64, 128) dtype=float64_ref>, <tf.Tensor 'Assign_3:0' shape=(64, 128) dtype=float64_ref>, <tf.Tensor 'Assign_4:0' shape=(64, 64) dtype=float64_ref>, <tf.Tensor 'Assign_5:0' shape=(64, 64) dtype=float64_ref>, <tf.Tensor 'Assign_6:0' shape=(64, 64) dtype=float64_ref>, <tf.Tensor 'Assign_7:0' shape=(64, 64) dtype=float64_ref>]\n",
      "INFO:tensorflow:Done calling model_fn.\n",
      "INFO:tensorflow:Create CheckpointSaverHook.\n",
      "INFO:tensorflow:Graph was finalized.\n",
      "INFO:tensorflow:Running local_init_op.\n",
      "INFO:tensorflow:Done running local_init_op.\n",
      "INFO:tensorflow:Saving checkpoints for 0 into /workspace/persistent-data/models/2019-01-21-21-18-12/model.ckpt.\n",
      "INFO:tensorflow:loss = 57880.29566828925, step = 0\n",
      "INFO:tensorflow:global_step/sec: 7.7551\n",
      "INFO:tensorflow:loss = 9626.573927207859, step = 100 (12.898 sec)\n",
      "INFO:tensorflow:global_step/sec: 8.95003\n",
      "INFO:tensorflow:loss = 4173.667166394245, step = 200 (11.173 sec)\n",
      "INFO:tensorflow:global_step/sec: 9.1748\n",
      "INFO:tensorflow:loss = 4904.316423184763, step = 300 (10.901 sec)\n",
      "INFO:tensorflow:global_step/sec: 8.6333\n",
      "INFO:tensorflow:loss = 3574.8167214762825, step = 400 (11.581 sec)\n",
      "INFO:tensorflow:global_step/sec: 9.45242\n",
      "INFO:tensorflow:loss = 8828.153505292406, step = 500 (10.583 sec)\n",
      "INFO:tensorflow:global_step/sec: 9.10858\n",
      "INFO:tensorflow:loss = 9276.646373539408, step = 600 (10.975 sec)\n",
      "INFO:tensorflow:global_step/sec: 9.17874\n",
      "INFO:tensorflow:loss = 3735.0033373832134, step = 700 (10.897 sec)\n",
      "INFO:tensorflow:global_step/sec: 8.87592\n",
      "INFO:tensorflow:loss = 3917.1512124225496, step = 800 (11.267 sec)\n",
      "INFO:tensorflow:global_step/sec: 8.82066\n",
      "INFO:tensorflow:loss = 3309.5003813093144, step = 900 (11.335 sec)\n",
      "INFO:tensorflow:global_step/sec: 9.3642\n",
      "INFO:tensorflow:loss = 4343.829046159804, step = 1000 (10.681 sec)\n",
      "INFO:tensorflow:global_step/sec: 9.46831\n",
      "INFO:tensorflow:loss = 3756.372276156812, step = 1100 (10.558 sec)\n",
      "INFO:tensorflow:global_step/sec: 9.12841\n",
      "INFO:tensorflow:loss = 3585.0465972834395, step = 1200 (10.957 sec)\n",
      "INFO:tensorflow:global_step/sec: 9.07344\n",
      "INFO:tensorflow:loss = 3907.5544694806367, step = 1300 (11.022 sec)\n",
      "INFO:tensorflow:global_step/sec: 9.36832\n",
      "INFO:tensorflow:loss = 7794.5707188978995, step = 1400 (10.673 sec)\n",
      "INFO:tensorflow:global_step/sec: 9.24143\n",
      "INFO:tensorflow:loss = 3633.569432009577, step = 1500 (10.823 sec)\n",
      "INFO:tensorflow:global_step/sec: 9.23638\n",
      "INFO:tensorflow:loss = 3743.408072632418, step = 1600 (10.827 sec)\n",
      "INFO:tensorflow:global_step/sec: 9.17011\n",
      "INFO:tensorflow:loss = 3268.794569753456, step = 1700 (10.905 sec)\n"
     ]
    }
   ],
   "source": [
    "DISTINCT_BATCHES = 1323\n",
    "STEPS_PER_BATCH = int(4096/TIMESTEPS)\n",
    "TOTAL_STEPS = DISTINCT_BATCHES * STEPS_PER_BATCH\n",
    "print('running estimator for %d steps' % TOTAL_STEPS)\n",
    "estimator.train(input_fn=lambda: earthquake_input_fn.earthquake_input_fn2(EARTHQUAKE_DATA_DIR,\n",
    "                                                                          BATCH_SIZE,\n",
    "                                                                          TIMESTEPS,\n",
    "                                                                          scales=['1e1', '1e0'],\n",
    "                                                                          traintest='train'),\n",
    "                steps=TOTAL_STEPS)"
   ]
  },
  {
   "cell_type": "code",
   "execution_count": 13,
   "metadata": {},
   "outputs": [
    {
     "name": "stdout",
     "output_type": "stream",
     "text": [
      "INFO:tensorflow:Using default config.\n",
      "INFO:tensorflow:Using config: {'_num_worker_replicas': 1, '_experimental_distribute': None, '_protocol': None, '_master': '', '_keep_checkpoint_every_n_hours': 10000, '_device_fn': None, '_global_id_in_cluster': 0, '_save_summary_steps': 100, '_eval_distribute': None, '_service': None, '_session_config': allow_soft_placement: true\n",
      "graph_options {\n",
      "  rewrite_options {\n",
      "    meta_optimizer_iterations: ONE\n",
      "  }\n",
      "}\n",
      ", '_keep_checkpoint_max': 5, '_num_ps_replicas': 0, '_log_step_count_steps': 100, '_cluster_spec': <tensorflow.python.training.server_lib.ClusterSpec object at 0x7faada0a1d30>, '_train_distribute': None, '_model_dir': '/workspace/persistent-data/models/2019-01-21-18-51-50', '_task_type': 'worker', '_tf_random_seed': None, '_save_checkpoints_steps': None, '_is_chief': True, '_task_id': 0, '_save_checkpoints_secs': 600, '_evaluation_master': ''}\n"
     ]
    }
   ],
   "source": [
    "PRED_BATCHES = 1\n",
    "TOTAL_PRED_FILES = PRED_BATCHES * BATCH_SIZE\n",
    "estimator = create_estimator_from_params(BATCH_SIZE,\n",
    "                                         TIMESTEPS,\n",
    "                                         1,\n",
    "                                         feature_columns=[tf.feature_column.numeric_column(key='acousticdata',\n",
    "                                                                                           dtype=tf.int64,\n",
    "                                                                                           shape=(BATCH_SIZE, TIMESTEPS))],\n",
    "                                         lstm_cell_size=LSTM_CELL_SIZE,\n",
    "                                         learning_rate=LEARNING_RATE,\n",
    "                                         label_input_column=[tf.feature_column.numeric_column(key='tminus',\n",
    "                                                                                              dtype=tf.float64,\n",
    "                                                                                              shape=(BATCH_SIZE, TIMESTEPS))],\n",
    "                                         model_dir='/workspace/persistent-data/models/2019-01-21-18-51-50')\n",
    "predictions = estimator.predict(lambda: earthquake_input_fn.earthquake_input_fn2_prediction(EARTHQUAKE_DATA_DIR,\n",
    "                                                                                            BATCH_SIZE,\n",
    "                                                                                            TIMESTEPS,\n",
    "                                                                                            num_files=TOTAL_PRED_FILES,\n",
    "                                                                                            scales=['1e0', '1e1'],\n",
    "                                                                                            traintest='test'),\n",
    "                                yield_single_examples=False)"
   ]
  },
  {
   "cell_type": "code",
   "execution_count": 14,
   "metadata": {},
   "outputs": [
    {
     "name": "stdout",
     "output_type": "stream",
     "text": [
      "INFO:tensorflow:Calling model_fn.\n",
      "{'tminus': <tf.Tensor 'IteratorGetNext:1' shape=(?, ?) dtype=float64>, 'acousticdata': <tf.Tensor 'IteratorGetNext:0' shape=(?, ?) dtype=int64>}\n",
      "INFO:tensorflow:Done calling model_fn.\n",
      "INFO:tensorflow:Graph was finalized.\n",
      "INFO:tensorflow:Restoring parameters from /workspace/persistent-data/models/2019-01-21-18-51-50/model.ckpt-256\n",
      "INFO:tensorflow:Running local_init_op.\n",
      "INFO:tensorflow:Done running local_init_op.\n",
      "mae: 2.58151\n",
      "mse: 10.59861\n",
      "mae batch: 41.03840\n",
      "mse batch: 169.18947\n"
     ]
    }
   ],
   "source": [
    "mae = 0.0\n",
    "N_sub_batches = 4096 / TIMESTEPS\n",
    "last_batch_idx = N_sub_batches - 1\n",
    "\n",
    "for i, p in enumerate(predictions):\n",
    "    \n",
    "    labels = p['labels']\n",
    "    preds = p['pred']\n",
    "    \n",
    "    # Only care about errors on the last timestep of the last batch\n",
    "    \n",
    "    if i == last_batch_idx:\n",
    "        mae = np.abs(labels[:,-1] - preds[:,-1]).sum() / BATCH_SIZE\n",
    "        mse = ((labels[:,-1] - preds[:,-1])**2).sum() / BATCH_SIZE\n",
    "        \n",
    "        mae_batch = np.abs(labels - preds).sum() / BATCH_SIZE\n",
    "        mse_batch = ((labels - preds)**2).sum() / BATCH_SIZE\n",
    "    \n",
    "print('mae: %.5f' % mae)\n",
    "print('mse: %.5f' % mse)\n",
    "print('mae batch: %.5f' % mae_batch)\n",
    "print('mse batch: %.5f' % mse_batch)"
   ]
  },
  {
   "cell_type": "code",
   "execution_count": 15,
   "metadata": {},
   "outputs": [
    {
     "data": {
      "text/plain": [
       "255"
      ]
     },
     "execution_count": 15,
     "metadata": {},
     "output_type": "execute_result"
    }
   ],
   "source": [
    "i"
   ]
  },
  {
   "cell_type": "code",
   "execution_count": 16,
   "metadata": {},
   "outputs": [
    {
     "data": {
      "text/plain": [
       "dtype('float32')"
      ]
     },
     "execution_count": 16,
     "metadata": {},
     "output_type": "execute_result"
    }
   ],
   "source": [
    "labels.dtype"
   ]
  },
  {
   "cell_type": "code",
   "execution_count": 17,
   "metadata": {},
   "outputs": [
    {
     "data": {
      "text/plain": [
       "dtype('float64')"
      ]
     },
     "execution_count": 17,
     "metadata": {},
     "output_type": "execute_result"
    }
   ],
   "source": [
    "preds.dtype"
   ]
  },
  {
   "cell_type": "code",
   "execution_count": 18,
   "metadata": {},
   "outputs": [
    {
     "data": {
      "text/plain": [
       "array([[-5.2259955, -5.2259955, -5.2259955, ..., -5.2259955, -5.2259955,\n",
       "        -5.2259955],\n",
       "       [-1.7056955, -1.7056955, -1.7056955, ..., -1.7056955, -1.7056955,\n",
       "        -1.7056955],\n",
       "       [-1.6991955, -1.6991955, -1.6991955, ..., -1.6991955, -1.6991955,\n",
       "        -1.6991955],\n",
       "       ...,\n",
       "       [-2.5403955, -2.5403955, -2.5403955, ..., -2.5403955, -2.5403955,\n",
       "        -2.5403955],\n",
       "       [-1.1667955, -1.1667955, -1.1667955, ..., -1.1667955, -1.1667955,\n",
       "        -1.1667955],\n",
       "       [-4.2195954, -4.2195954, -4.2195954, ..., -4.2195954, -4.2195954,\n",
       "        -4.2195954]], dtype=float32)"
      ]
     },
     "execution_count": 18,
     "metadata": {},
     "output_type": "execute_result"
    }
   ],
   "source": [
    "labels"
   ]
  },
  {
   "cell_type": "code",
   "execution_count": 19,
   "metadata": {},
   "outputs": [
    {
     "data": {
      "text/plain": [
       "array([[-6.39381525, -6.34407812, -6.07519493, ..., -6.40602068,\n",
       "        -5.95761456, -6.3772099 ],\n",
       "       [-4.60742331, -4.75285129, -4.52816296, ..., -4.6032322 ,\n",
       "        -4.28710789, -4.65687966],\n",
       "       [-5.44281503, -5.23884379, -5.13997829, ..., -5.47228008,\n",
       "        -5.17700616, -5.36347641],\n",
       "       ...,\n",
       "       [-6.24999416, -6.21505803, -6.46709088, ..., -6.1611161 ,\n",
       "        -6.37439961, -6.14457805],\n",
       "       [-6.7952206 , -6.63778415, -6.71463676, ..., -6.44360682,\n",
       "        -6.71519196, -6.63341746],\n",
       "       [-6.04155592, -6.0581712 , -6.14465133, ..., -5.97205959,\n",
       "        -6.08115307, -5.82669688]])"
      ]
     },
     "execution_count": 19,
     "metadata": {},
     "output_type": "execute_result"
    }
   ],
   "source": [
    "preds"
   ]
  },
  {
   "cell_type": "code",
   "execution_count": 20,
   "metadata": {},
   "outputs": [
    {
     "data": {
      "text/plain": [
       "0.0"
      ]
     },
     "execution_count": 20,
     "metadata": {},
     "output_type": "execute_result"
    }
   ],
   "source": [
    "pd.Series(labels[1]).diff().abs().sum()"
   ]
  },
  {
   "cell_type": "code",
   "execution_count": 21,
   "metadata": {},
   "outputs": [
    {
     "name": "stdout",
     "output_type": "stream",
     "text": [
      "6\n",
      "[-0.48219553 -0.48219553 -0.48219553 -0.48219553 -0.48219553 -0.48219553\n",
      " -0.48219553 -0.4821955  -0.4821955  -0.4821955  -0.4821955  -0.4821955\n",
      " -0.4821955  -0.4821955  -0.4821955  -0.4821955 ]\n",
      "----------------\n",
      "8\n",
      "[-0.39669552 -0.39669552 -0.39669552 -0.39669552 -0.39669552 -0.39669552\n",
      " -0.39669552 -0.39669552 -0.39669552 -0.39669552 -0.39669552 -0.39669552\n",
      " -0.39669552 -0.39669552 -0.3966955  -0.3966955 ]\n",
      "----------------\n",
      "13\n",
      "[-0.65269554 -0.65269554 -0.65269554 -0.6526955  -0.6526955  -0.6526955\n",
      " -0.6526955  -0.6526955  -0.6526955  -0.6526955  -0.6526955  -0.6526955\n",
      " -0.6526955  -0.6526955  -0.6526955  -0.6526955 ]\n",
      "----------------\n",
      "32\n",
      "[-6.7773957 -6.7773957 -6.7773957 -6.7773957 -6.7773957 -6.7773957\n",
      " -6.7773957 -6.7773957 -6.7773957 -6.7773957 -6.7773957 -6.7773957\n",
      " -6.7773957 -6.7773957 -6.7773952 -6.7773952]\n",
      "----------------\n",
      "41\n",
      "[-0.40069553 -0.40069553 -0.40069553 -0.40069553 -0.40069553 -0.40069553\n",
      " -0.40069553 -0.40069553 -0.40069553 -0.4006955  -0.4006955  -0.4006955\n",
      " -0.4006955  -0.4006955  -0.4006955  -0.4006955 ]\n",
      "----------------\n"
     ]
    },
    {
     "data": {
      "text/plain": [
       "0.0"
      ]
     },
     "execution_count": 21,
     "metadata": {},
     "output_type": "execute_result"
    }
   ],
   "source": [
    "s = 0.0\n",
    "for i in range(64):\n",
    "    if pd.Series(labels[i]).diff().abs().sum() > 0.0:\n",
    "        print(i)\n",
    "        print(labels[i])\n",
    "        print('----------------')\n",
    "s"
   ]
  },
  {
   "cell_type": "code",
   "execution_count": 21,
   "metadata": {},
   "outputs": [
    {
     "data": {
      "text/plain": [
       "0.0"
      ]
     },
     "execution_count": 21,
     "metadata": {},
     "output_type": "execute_result"
    }
   ],
   "source": [
    "pd.Series(labels[0]).diff().sum()"
   ]
  },
  {
   "cell_type": "code",
   "execution_count": 99,
   "metadata": {},
   "outputs": [
    {
     "data": {
      "image/png": "[encoded data removed]",
      "text/plain": [
       "<Figure size 432x288 with 1 Axes>"
      ]
     },
     "metadata": {
      "needs_background": "light"
     },
     "output_type": "display_data"
    }
   ],
   "source": [
    "plt.scatter(range(64), labels[:,-1], label='labels')\n",
    "plt.scatter(range(64), preds[:,-1], label='preds')\n",
    "plt.legend()\n",
    "plt.show()"
   ]
  },
  {
   "cell_type": "code",
   "execution_count": null,
   "metadata": {},
   "outputs": [],
   "source": []
  }
 ],
 "metadata": {
  "kernelspec": {
   "display_name": "Python 3",
   "language": "python",
   "name": "python3"
  },
  "language_info": {
   "codemirror_mode": {
    "name": "ipython",
    "version": 3
   },
   "file_extension": ".py",
   "mimetype": "text/x-python",
   "name": "python",
   "nbconvert_exporter": "python",
   "pygments_lexer": "ipython3",
   "version": "3.5.2"
  }
 },
 "nbformat": 4,
 "nbformat_minor": 2
}

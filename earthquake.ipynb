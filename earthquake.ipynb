{
 "cells": [
  {
   "cell_type": "markdown",
   "metadata": {},
   "source": [
    "# LANL Earthquake Prediction"
   ]
  },
  {
   "cell_type": "markdown",
   "metadata": {},
   "source": [
    "Kaggle challenge: https://www.kaggle.com/c/LANL-Earthquake-Prediction/"
   ]
  },
  {
   "cell_type": "markdown",
   "metadata": {},
   "source": [
    "The goal of this competition is to use seismic signals to predict the timing of laboratory earthquakes. The data comes from a well-known experimental set-up used to study earthquake physics. The `acoustic_data` input signal is used to predict the time remaining before the next laboratory earthquake (`time_to_failure`).\n",
    "\n",
    "The training data is a single, continuous segment of experimental data. The test data consists of a folder containing many small segments. The data *within* each test file is continuous, but the test files do not represent a continuous segment of the experiment; thus, the predictions cannot be assumed to follow the same regular pattern seen in the training file.\n",
    "\n",
    "For each `seg_id` in the test folder, you should predict a *single* `time_to_failure` corresponding to the time between the *last row of the segment* and the next laboratory earthquake."
   ]
  },
  {
   "cell_type": "markdown",
   "metadata": {},
   "source": [
    "## Data fields\n",
    "\n",
    "* `acoustic_data` - the seismic signal [int16]\n",
    "* `time_to_failure` - the time (in seconds) until the next laboratory earthquake [float64]\n",
    "* `seg_id` - the test segment ids for which predictions should be made (one prediction per segment)"
   ]
  },
  {
   "cell_type": "markdown",
   "metadata": {},
   "source": [
    "## Getting started: Grab the data"
   ]
  },
  {
   "cell_type": "markdown",
   "metadata": {},
   "source": [
    "1. Set up your Kaggle account and sign up for the LANL competition using the link above\n",
    "2. Get an API key and place it in `~/.kaggle/kaggle.json`, then `pip install kaggle` to get the Kaggle data client\n",
    "3. Download the competition data: `kaggle competitions download -c LANL-Earthquake-Prediction`"
   ]
  },
  {
   "cell_type": "code",
   "execution_count": 1,
   "metadata": {},
   "outputs": [],
   "source": [
    "import os, sys"
   ]
  },
  {
   "cell_type": "code",
   "execution_count": 5,
   "metadata": {},
   "outputs": [],
   "source": [
    "os.chdir('/workspace/persistent-data/earthquake/')"
   ]
  },
  {
   "cell_type": "code",
   "execution_count": 6,
   "metadata": {},
   "outputs": [
    {
     "name": "stdout",
     "output_type": "stream",
     "text": [
      "sample_submission.csv  test.zip  train.csv.zip\n"
     ]
    }
   ],
   "source": [
    "!ls"
   ]
  },
  {
   "cell_type": "code",
   "execution_count": 8,
   "metadata": {},
   "outputs": [
    {
     "name": "stdout",
     "output_type": "stream",
     "text": [
      "Archive:  train.csv.zip\n",
      "  inflating: train/train.csv         \n"
     ]
    }
   ],
   "source": [
    "!unzip train.csv.zip -d train"
   ]
  },
  {
   "cell_type": "code",
   "execution_count": 10,
   "metadata": {},
   "outputs": [
    {
     "name": "stdout",
     "output_type": "stream",
     "text": [
      "total 9331600\n",
      "----------. 1 root root 9555558244 Jan 10 01:12 train.csv\n"
     ]
    }
   ],
   "source": [
    "!ls -l train"
   ]
  },
  {
   "cell_type": "code",
   "execution_count": 11,
   "metadata": {},
   "outputs": [
    {
     "name": "stdout",
     "output_type": "stream",
     "text": [
      "acoustic_data,time_to_failure\n",
      "12,1.4690999832\n",
      "6,1.4690999821\n",
      "8,1.469099981\n",
      "5,1.4690999799\n",
      "8,1.4690999788\n",
      "8,1.4690999777\n",
      "9,1.4690999766\n",
      "7,1.4690999755\n",
      "-5,1.4690999744\n"
     ]
    }
   ],
   "source": [
    "!head -n 10 train/train.csv"
   ]
  },
  {
   "cell_type": "code",
   "execution_count": 12,
   "metadata": {},
   "outputs": [
    {
     "name": "stdout",
     "output_type": "stream",
     "text": [
      "629145481 train/train.csv\n"
     ]
    }
   ],
   "source": [
    "!wc -l train/train.csv"
   ]
  },
  {
   "cell_type": "markdown",
   "metadata": {},
   "source": [
    "## Partition out the top 100,000 rows as a train sample set (out of 629M total)"
   ]
  },
  {
   "cell_type": "code",
   "execution_count": 14,
   "metadata": {},
   "outputs": [],
   "source": [
    "!head -n 100000 train/train.csv > /workspace/persistent-data/earthquake-train-sample.csv"
   ]
  },
  {
   "cell_type": "markdown",
   "metadata": {},
   "source": [
    "## Load into Pandas and plot"
   ]
  },
  {
   "cell_type": "code",
   "execution_count": 1,
   "metadata": {},
   "outputs": [],
   "source": [
    "import pandas as pd\n",
    "import numpy as np\n",
    "import matplotlib.pyplot as plt\n",
    "import time\n",
    "%matplotlib inline"
   ]
  },
  {
   "cell_type": "code",
   "execution_count": 3,
   "metadata": {},
   "outputs": [],
   "source": [
    "train_df = pd.read_csv('/workspace/persistent-data/earthquake-train-sample.csv')"
   ]
  },
  {
   "cell_type": "code",
   "execution_count": 4,
   "metadata": {},
   "outputs": [
    {
     "data": {
      "text/html": [
       "<div>\n",
       "<style scoped>\n",
       "    .dataframe tbody tr th:only-of-type {\n",
       "        vertical-align: middle;\n",
       "    }\n",
       "\n",
       "    .dataframe tbody tr th {\n",
       "        vertical-align: top;\n",
       "    }\n",
       "\n",
       "    .dataframe thead th {\n",
       "        text-align: right;\n",
       "    }\n",
       "</style>\n",
       "<table border=\"1\" class=\"dataframe\">\n",
       "  <thead>\n",
       "    <tr style=\"text-align: right;\">\n",
       "      <th></th>\n",
       "      <th>acoustic_data</th>\n",
       "      <th>time_to_failure</th>\n",
       "    </tr>\n",
       "  </thead>\n",
       "  <tbody>\n",
       "    <tr>\n",
       "      <th>0</th>\n",
       "      <td>12</td>\n",
       "      <td>1.4691</td>\n",
       "    </tr>\n",
       "    <tr>\n",
       "      <th>1</th>\n",
       "      <td>6</td>\n",
       "      <td>1.4691</td>\n",
       "    </tr>\n",
       "    <tr>\n",
       "      <th>2</th>\n",
       "      <td>8</td>\n",
       "      <td>1.4691</td>\n",
       "    </tr>\n",
       "  </tbody>\n",
       "</table>\n",
       "</div>"
      ],
      "text/plain": [
       "   acoustic_data  time_to_failure\n",
       "0             12           1.4691\n",
       "1              6           1.4691\n",
       "2              8           1.4691"
      ]
     },
     "execution_count": 4,
     "metadata": {},
     "output_type": "execute_result"
    }
   ],
   "source": [
    "train_df.head(3)"
   ]
  },
  {
   "cell_type": "code",
   "execution_count": 5,
   "metadata": {},
   "outputs": [],
   "source": [
    "train_df['t_minus'] = -train_df['time_to_failure']"
   ]
  },
  {
   "cell_type": "code",
   "execution_count": 6,
   "metadata": {},
   "outputs": [
    {
     "data": {
      "text/plain": [
       "<matplotlib.axes._subplots.AxesSubplot at 0x7feed803eb70>"
      ]
     },
     "execution_count": 6,
     "metadata": {},
     "output_type": "execute_result"
    },
    {
     "data": {
      "image/png": "[encoded data removed]",
      "text/plain": [
       "<Figure size 864x360 with 1 Axes>"
      ]
     },
     "metadata": {
      "needs_background": "light"
     },
     "output_type": "display_data"
    }
   ],
   "source": [
    "train_df.plot('t_minus', 'acoustic_data', figsize=(12,5))"
   ]
  },
  {
   "cell_type": "markdown",
   "metadata": {},
   "source": [
    "Well it would have been nice if they had tagged a sequence number, but as far as data quality goes, this isn't too bad. We will need to add the segment markers ourselves. It looks like there are 25 distinct events, out of the 100,000 total rows we grabbed - so about 4,000 rows prior to each event."
   ]
  },
  {
   "cell_type": "code",
   "execution_count": 7,
   "metadata": {},
   "outputs": [
    {
     "data": {
      "text/plain": [
       "count    9.999800e+04\n",
       "mean     2.550237e-07\n",
       "std      1.640581e-05\n",
       "min      1.100000e-09\n",
       "25%      1.100000e-09\n",
       "50%      1.100000e-09\n",
       "75%      1.100000e-09\n",
       "max      1.095495e-03\n",
       "Name: t_minus, dtype: float64"
      ]
     },
     "execution_count": 7,
     "metadata": {},
     "output_type": "execute_result"
    }
   ],
   "source": [
    "train_df['t_minus'].diff().describe()"
   ]
  },
  {
   "cell_type": "markdown",
   "metadata": {},
   "source": [
    "So, typically there are about 1.1e-9 seconds between observations - but occasionally as many as 1.1e-3 seconds. Let's see what the bimodal distribution looks like so we can set a max allowable time limit between observations before saying that a new segment has begun."
   ]
  },
  {
   "cell_type": "code",
   "execution_count": 8,
   "metadata": {},
   "outputs": [],
   "source": [
    "train_df['t_diff'] = train_df['t_minus'].diff().fillna(train_df['t_minus'].diff().iloc[1])  # fill first nan with expected spacing value"
   ]
  },
  {
   "cell_type": "code",
   "execution_count": 9,
   "metadata": {},
   "outputs": [
    {
     "data": {
      "text/html": [
       "<div>\n",
       "<style scoped>\n",
       "    .dataframe tbody tr th:only-of-type {\n",
       "        vertical-align: middle;\n",
       "    }\n",
       "\n",
       "    .dataframe tbody tr th {\n",
       "        vertical-align: top;\n",
       "    }\n",
       "\n",
       "    .dataframe thead th {\n",
       "        text-align: right;\n",
       "    }\n",
       "</style>\n",
       "<table border=\"1\" class=\"dataframe\">\n",
       "  <thead>\n",
       "    <tr style=\"text-align: right;\">\n",
       "      <th></th>\n",
       "      <th>acoustic_data</th>\n",
       "      <th>time_to_failure</th>\n",
       "      <th>t_minus</th>\n",
       "      <th>t_diff</th>\n",
       "    </tr>\n",
       "  </thead>\n",
       "  <tbody>\n",
       "    <tr>\n",
       "      <th>0</th>\n",
       "      <td>12</td>\n",
       "      <td>1.4691</td>\n",
       "      <td>-1.4691</td>\n",
       "      <td>1.100000e-09</td>\n",
       "    </tr>\n",
       "    <tr>\n",
       "      <th>1</th>\n",
       "      <td>6</td>\n",
       "      <td>1.4691</td>\n",
       "      <td>-1.4691</td>\n",
       "      <td>1.100000e-09</td>\n",
       "    </tr>\n",
       "    <tr>\n",
       "      <th>2</th>\n",
       "      <td>8</td>\n",
       "      <td>1.4691</td>\n",
       "      <td>-1.4691</td>\n",
       "      <td>1.100000e-09</td>\n",
       "    </tr>\n",
       "  </tbody>\n",
       "</table>\n",
       "</div>"
      ],
      "text/plain": [
       "   acoustic_data  time_to_failure  t_minus        t_diff\n",
       "0             12           1.4691  -1.4691  1.100000e-09\n",
       "1              6           1.4691  -1.4691  1.100000e-09\n",
       "2              8           1.4691  -1.4691  1.100000e-09"
      ]
     },
     "execution_count": 9,
     "metadata": {},
     "output_type": "execute_result"
    }
   ],
   "source": [
    "train_df.head(3)"
   ]
  },
  {
   "cell_type": "code",
   "execution_count": 10,
   "metadata": {},
   "outputs": [
    {
     "data": {
      "text/plain": [
       "Text(0.5, 1.0, 'Sample spacing (seconds) within a single segment')"
      ]
     },
     "execution_count": 10,
     "metadata": {},
     "output_type": "execute_result"
    },
    {
     "data": {
      "image/png": "[encoded data removed]",
      "text/plain": [
       "<Figure size 432x288 with 1 Axes>"
      ]
     },
     "metadata": {
      "needs_background": "light"
     },
     "output_type": "display_data"
    }
   ],
   "source": [
    "train_df['t_diff'][train_df['t_diff'] < 5e-9].hist(bins=100)\n",
    "plt.title('Sample spacing (seconds) within a single segment')"
   ]
  },
  {
   "cell_type": "code",
   "execution_count": 11,
   "metadata": {},
   "outputs": [
    {
     "data": {
      "text/plain": [
       "Text(0.5, 1.0, 'Sample spacing (seconds) between segments')"
      ]
     },
     "execution_count": 11,
     "metadata": {},
     "output_type": "execute_result"
    },
    {
     "data": {
      "image/png": "[encoded data removed]",
      "text/plain": [
       "<Figure size 432x288 with 1 Axes>"
      ]
     },
     "metadata": {
      "needs_background": "light"
     },
     "output_type": "display_data"
    }
   ],
   "source": [
    "train_df['t_diff'][train_df['t_diff'] >= 5e-9].hist(bins=100)\n",
    "plt.title('Sample spacing (seconds) between segments')"
   ]
  },
  {
   "cell_type": "markdown",
   "metadata": {},
   "source": [
    "So, if `t_diff` < 5e-9, we are in the same segment. Otherwise, we are in a new segment."
   ]
  },
  {
   "cell_type": "code",
   "execution_count": 12,
   "metadata": {},
   "outputs": [],
   "source": [
    "train_df['segnum'] = (train_df['t_diff'] >= 5e-9).astype(int).fillna(0).abs().cumsum()"
   ]
  },
  {
   "cell_type": "code",
   "execution_count": 13,
   "metadata": {},
   "outputs": [
    {
     "data": {
      "text/html": [
       "<div>\n",
       "<style scoped>\n",
       "    .dataframe tbody tr th:only-of-type {\n",
       "        vertical-align: middle;\n",
       "    }\n",
       "\n",
       "    .dataframe tbody tr th {\n",
       "        vertical-align: top;\n",
       "    }\n",
       "\n",
       "    .dataframe thead th {\n",
       "        text-align: right;\n",
       "    }\n",
       "</style>\n",
       "<table border=\"1\" class=\"dataframe\">\n",
       "  <thead>\n",
       "    <tr style=\"text-align: right;\">\n",
       "      <th></th>\n",
       "      <th>acoustic_data</th>\n",
       "      <th>time_to_failure</th>\n",
       "      <th>t_minus</th>\n",
       "      <th>t_diff</th>\n",
       "      <th>segnum</th>\n",
       "    </tr>\n",
       "  </thead>\n",
       "  <tbody>\n",
       "    <tr>\n",
       "      <th>0</th>\n",
       "      <td>12</td>\n",
       "      <td>1.4691</td>\n",
       "      <td>-1.4691</td>\n",
       "      <td>1.100000e-09</td>\n",
       "      <td>0</td>\n",
       "    </tr>\n",
       "    <tr>\n",
       "      <th>1</th>\n",
       "      <td>6</td>\n",
       "      <td>1.4691</td>\n",
       "      <td>-1.4691</td>\n",
       "      <td>1.100000e-09</td>\n",
       "      <td>0</td>\n",
       "    </tr>\n",
       "    <tr>\n",
       "      <th>2</th>\n",
       "      <td>8</td>\n",
       "      <td>1.4691</td>\n",
       "      <td>-1.4691</td>\n",
       "      <td>1.100000e-09</td>\n",
       "      <td>0</td>\n",
       "    </tr>\n",
       "  </tbody>\n",
       "</table>\n",
       "</div>"
      ],
      "text/plain": [
       "   acoustic_data  time_to_failure  t_minus        t_diff  segnum\n",
       "0             12           1.4691  -1.4691  1.100000e-09       0\n",
       "1              6           1.4691  -1.4691  1.100000e-09       0\n",
       "2              8           1.4691  -1.4691  1.100000e-09       0"
      ]
     },
     "execution_count": 13,
     "metadata": {},
     "output_type": "execute_result"
    }
   ],
   "source": [
    "train_df.head(3)"
   ]
  },
  {
   "cell_type": "code",
   "execution_count": 14,
   "metadata": {},
   "outputs": [
    {
     "data": {
      "text/plain": [
       "count    99999.000000\n",
       "mean        11.712117\n",
       "std          7.050438\n",
       "min          0.000000\n",
       "25%          6.000000\n",
       "50%         12.000000\n",
       "75%         18.000000\n",
       "max         24.000000\n",
       "Name: segnum, dtype: float64"
      ]
     },
     "execution_count": 14,
     "metadata": {},
     "output_type": "execute_result"
    }
   ],
   "source": [
    "train_df['segnum'].describe()"
   ]
  },
  {
   "cell_type": "code",
   "execution_count": 15,
   "metadata": {},
   "outputs": [
    {
     "data": {
      "image/png": "[encoded data removed]",
      "text/plain": [
       "<Figure size 432x288 with 1 Axes>"
      ]
     },
     "metadata": {
      "needs_background": "light"
     },
     "output_type": "display_data"
    },
    {
     "data": {
      "image/png": "[encoded data removed]",
      "text/plain": [
       "<Figure size 432x288 with 1 Axes>"
      ]
     },
     "metadata": {
      "needs_background": "light"
     },
     "output_type": "display_data"
    },
    {
     "data": {
      "image/png": "[encoded data removed]",
      "text/plain": [
       "<Figure size 432x288 with 1 Axes>"
      ]
     },
     "metadata": {
      "needs_background": "light"
     },
     "output_type": "display_data"
    }
   ],
   "source": [
    "for segnum in range(3):\n",
    "    train_df.groupby('segnum').get_group(segnum).plot('t_minus', 'acoustic_data')\n",
    "    plt.title('Segment=' + str(segnum))"
   ]
  },
  {
   "cell_type": "markdown",
   "metadata": {},
   "source": [
    "## About how many observations in each segment?"
   ]
  },
  {
   "cell_type": "code",
   "execution_count": 16,
   "metadata": {},
   "outputs": [
    {
     "data": {
      "text/plain": [
       "count      25.000000\n",
       "mean     3999.960000\n",
       "std       479.991708\n",
       "min      1696.000000\n",
       "25%      4096.000000\n",
       "50%      4096.000000\n",
       "75%      4096.000000\n",
       "max      4096.000000\n",
       "dtype: float64"
      ]
     },
     "execution_count": 16,
     "metadata": {},
     "output_type": "execute_result"
    }
   ],
   "source": [
    "train_df.groupby('segnum').size().describe()"
   ]
  },
  {
   "cell_type": "markdown",
   "metadata": {},
   "source": [
    "So each one is supposed to be 4096 observations. That doesn't divide into 100,000 evenly, so let's drop our final segment for now, since we only have 1,696 observations in that one."
   ]
  },
  {
   "cell_type": "code",
   "execution_count": 17,
   "metadata": {},
   "outputs": [],
   "source": [
    "train_df = train_df[train_df['segnum'] != train_df['segnum'].max()]"
   ]
  },
  {
   "cell_type": "code",
   "execution_count": 18,
   "metadata": {},
   "outputs": [
    {
     "data": {
      "text/plain": [
       "count      24.000000\n",
       "mean     4095.958333\n",
       "std         0.204124\n",
       "min      4095.000000\n",
       "25%      4096.000000\n",
       "50%      4096.000000\n",
       "75%      4096.000000\n",
       "max      4096.000000\n",
       "dtype: float64"
      ]
     },
     "execution_count": 18,
     "metadata": {},
     "output_type": "execute_result"
    }
   ],
   "source": [
    "train_df.groupby('segnum').size().describe()"
   ]
  },
  {
   "cell_type": "code",
   "execution_count": 19,
   "metadata": {},
   "outputs": [
    {
     "data": {
      "text/plain": [
       "(4095, 5)"
      ]
     },
     "execution_count": 19,
     "metadata": {},
     "output_type": "execute_result"
    }
   ],
   "source": [
    "train_df[train_df['segnum'] == 0].shape"
   ]
  },
  {
   "cell_type": "markdown",
   "metadata": {},
   "source": [
    "As far as I can tell, the first segment really does only have 4,095 data points. Let's just fix that..."
   ]
  },
  {
   "cell_type": "code",
   "execution_count": 20,
   "metadata": {},
   "outputs": [],
   "source": [
    "last_line_of_first_segment = train_df[train_df['segnum'] == 0.0].sort_values('t_minus').iloc[-1]"
   ]
  },
  {
   "cell_type": "code",
   "execution_count": 21,
   "metadata": {},
   "outputs": [],
   "source": [
    "train_df = train_df.append(last_line_of_first_segment, ignore_index=True).sort_values(['segnum', 't_minus'])"
   ]
  },
  {
   "cell_type": "code",
   "execution_count": 22,
   "metadata": {},
   "outputs": [
    {
     "data": {
      "text/plain": [
       "count      24.0\n",
       "mean     4096.0\n",
       "std         0.0\n",
       "min      4096.0\n",
       "25%      4096.0\n",
       "50%      4096.0\n",
       "75%      4096.0\n",
       "max      4096.0\n",
       "dtype: float64"
      ]
     },
     "execution_count": 22,
     "metadata": {},
     "output_type": "execute_result"
    }
   ],
   "source": [
    "train_df.groupby('segnum').size().describe()"
   ]
  },
  {
   "cell_type": "markdown",
   "metadata": {},
   "source": [
    "Wundafurr. Now we can treat each segment the same."
   ]
  },
  {
   "cell_type": "markdown",
   "metadata": {},
   "source": [
    "Before we proceed, we want to turn our data into `float64`, since the range is so small. Once we normalize the values to [0,1], we will turn it back into `float32`, since that's what TensorFlow will be expecting."
   ]
  },
  {
   "cell_type": "code",
   "execution_count": 23,
   "metadata": {},
   "outputs": [],
   "source": [
    "train_df = train_df.astype(np.float64)"
   ]
  },
  {
   "cell_type": "markdown",
   "metadata": {},
   "source": [
    "# TensorFlow Model"
   ]
  },
  {
   "cell_type": "markdown",
   "metadata": {},
   "source": [
    "Now that we have segmented the data into distinct time-series datasets, we can train a neural network in TensorFlow to predict the number of seconds until the earthquake (the `t_minus` field) using the acoustic data. For our model, we will use an LSTM (Long Short-Term Memory) since it is commonly used to model sequences. Another good choice would be a GRU (Gated Recurrent Unit). These are both classes of Recurrent Neural Networks (RNNs), which are neural networks which pass hidden states and outputs to itself from one time step to the next. RNNs are a good choice whenever you have to create a model involving a sequence."
   ]
  },
  {
   "cell_type": "markdown",
   "metadata": {},
   "source": [
    "TensorFlow programs are defined in two stages:\n",
    "- In the first stage, you define your **computation graph**. The graph contains **Placeholders** for your inputs and all processing steps (i.e. the steps of the neural network). Some nodes in the graph contain trainable weights called **Variables** which TensorFlow will update for you - any trainable weight in a neural network is stored in a Variable.\n",
    "- In the second stage, you feed labeled training data into the computation graph. (At test/prediction time, you just omit the labels.) The network feeds the features through the computation graph and gets some output, which is dependent on the current setting of the Variables. TensorFlow compares the output to the label. The error signal ($y - \\hat{y}$) is then propagated backward through the network and is used to update the weights."
   ]
  },
  {
   "cell_type": "markdown",
   "metadata": {},
   "source": [
    "In the context of our problem, we want to use a neural network to solve a regression problem, since the `t_minus` field, our target time until the next earthquake, is real-valued. "
   ]
  },
  {
   "cell_type": "markdown",
   "metadata": {},
   "source": [
    "![LSTM](/persistent-code/lstm.png)"
   ]
  },
  {
   "cell_type": "markdown",
   "metadata": {},
   "source": [
    "http://colah.github.io/posts/2015-08-Understanding-LSTMs/"
   ]
  },
  {
   "cell_type": "code",
   "execution_count": 24,
   "metadata": {},
   "outputs": [],
   "source": [
    "import tensorflow as tf\n",
    "import tensorflow.keras as k\n",
    "from tensorflow.nn.rnn_cell import LSTMCell\n",
    "from tensorflow.nn import static_rnn\n",
    "from tensorflow.initializers import truncated_normal\n",
    "from tensorflow.layers import Dense\n",
    "import numpy as np\n",
    "import time\n",
    "import pickle"
   ]
  },
  {
   "cell_type": "code",
   "execution_count": 25,
   "metadata": {},
   "outputs": [],
   "source": [
    "tf.reset_default_graph()\n",
    "if 'sess' in dir():\n",
    "    sess.close()\n",
    "    del sess\n",
    "sess = tf.InteractiveSession()"
   ]
  },
  {
   "cell_type": "markdown",
   "metadata": {},
   "source": [
    "## Define computation graph"
   ]
  },
  {
   "cell_type": "code",
   "execution_count": 26,
   "metadata": {},
   "outputs": [],
   "source": [
    "BATCH_SIZE     = 8\n",
    "TIMESTEPS      = 128\n",
    "#N_FEATS        = 1\n",
    "LSTM_CELL_SIZE = 128"
   ]
  },
  {
   "cell_type": "code",
   "execution_count": 27,
   "metadata": {},
   "outputs": [],
   "source": [
    "# Placeholders for inputs and outputs\n",
    "tf_X = tf.placeholder(tf.float64, shape=(BATCH_SIZE, TIMESTEPS), name='input_placeholder')\n",
    "tf_y = tf.placeholder(tf.float64, shape=(BATCH_SIZE, TIMESTEPS), name='output_placeholder')"
   ]
  },
  {
   "cell_type": "code",
   "execution_count": 28,
   "metadata": {},
   "outputs": [],
   "source": [
    "# Create LSTM layer\n",
    "rnn_input = tf.reshape(tf_X, (BATCH_SIZE, TIMESTEPS, 1))\n",
    "lstm_initializer = truncated_normal(stddev=0.05, seed=1234, dtype=tf.float64)\n",
    "\n",
    "lstm_cell = LSTMCell(num_units=LSTM_CELL_SIZE,\n",
    "                     initializer=lstm_initializer,\n",
    "                     activation=tf.nn.leaky_relu,\n",
    "                     reuse=False,\n",
    "                     dtype=tf.float64,\n",
    "                     name='lstm_cell')\n",
    "\n",
    "rnn_output, states = static_rnn(cell=lstm_cell,\n",
    "                                inputs=[rnn_input[:,i,:1] for i in range(TIMESTEPS)],\n",
    "                                dtype=tf.float64)"
   ]
  },
  {
   "cell_type": "code",
   "execution_count": 29,
   "metadata": {},
   "outputs": [],
   "source": [
    "# Reshape RNN output\n",
    "final_rnn_output = tf.reshape(rnn_output, (BATCH_SIZE, TIMESTEPS * LSTM_CELL_SIZE))"
   ]
  },
  {
   "cell_type": "code",
   "execution_count": 30,
   "metadata": {},
   "outputs": [],
   "source": [
    "# Pass through a Dense layer\n",
    "dense = Dense(units=TIMESTEPS, activation=tf.nn.leaky_relu, name='dense_layer', dtype=tf.float64)(final_rnn_output)"
   ]
  },
  {
   "cell_type": "code",
   "execution_count": 31,
   "metadata": {},
   "outputs": [],
   "source": [
    "# Reshape to same shape as `outputs'\n",
    "results = tf.reshape(dense, (BATCH_SIZE, TIMESTEPS * 1))"
   ]
  },
  {
   "cell_type": "code",
   "execution_count": 32,
   "metadata": {},
   "outputs": [],
   "source": [
    "# Calculate loss as sum-of-squared errors\n",
    "loss = tf.reduce_sum(tf.square(tf_y - results), name='loss_sse')"
   ]
  },
  {
   "cell_type": "markdown",
   "metadata": {},
   "source": [
    "At this point, our network can take in 8 data segments at a time (`BATCH_SIZE`), each segment an array of length 1024 (`TIMESTEPS`). This means we will have to batch up our data and loop through every 8 segments to feed dataframes to the network in batches of size 8x1024. But before we do, we need to tell TensorFlow that the objective is to minimize the `loss` variable that we defined above, which we calculated as the sum of squared differences between the labels (`y`) and the estimates (`results`)."
   ]
  },
  {
   "cell_type": "code",
   "execution_count": 33,
   "metadata": {},
   "outputs": [],
   "source": [
    "optimizer = tf.train.RMSPropOptimizer(learning_rate=0.0001)\n",
    "train_op = optimizer.minimize(loss)"
   ]
  },
  {
   "cell_type": "markdown",
   "metadata": {},
   "source": [
    "The two lines above tell TensorFlow what to minimize (`loss`), and how to minimize it (using the `RMSProp` algorithm)."
   ]
  },
  {
   "cell_type": "markdown",
   "metadata": {},
   "source": [
    "## Feeding data into the network"
   ]
  },
  {
   "cell_type": "markdown",
   "metadata": {},
   "source": [
    "First, we need to create a function that will loop over our DataFrame and return the data of the expected size: 8x1024."
   ]
  },
  {
   "cell_type": "code",
   "execution_count": 34,
   "metadata": {},
   "outputs": [],
   "source": [
    "def data_loop_generator(df, batch_size, timesteps, segment_length=4096, num_steps=100):\n",
    "    n_segments = df['segnum'].nunique()\n",
    "    step = 0\n",
    "    \n",
    "    # Perform input and output value scaling to [0, 1]\n",
    "    Xlim = [min(df['acoustic_data']), max(df['acoustic_data'])]\n",
    "    Ylim = [min(df['t_minus']), max(df['t_minus'])]\n",
    "    X_inverted = abs(Xlim[1]) < 1e-12\n",
    "    Y_inverted = abs(Ylim[1]) < 1e-12\n",
    "    \n",
    "    if X_inverted:\n",
    "        print('Inverted X to prevent a divide-by-zero')\n",
    "        df['acoustic_data'] = -df['acoustic_data']\n",
    "        Xlim = [min(df['acoustic_data']), max(df['acoustic_data'])]\n",
    "    \n",
    "    if Y_inverted:\n",
    "        print('Inverted Y to prevent a divide-by-zero')\n",
    "        df['t_minus'] = -df['t_minus']\n",
    "        Ylim = [min(df['t_minus']), max(df['t_minus'])]\n",
    "    \n",
    "    df['acoustic_data'] = (df['acoustic_data'] - Xlim[0]) / Xlim[1]\n",
    "    df['t_minus'] = (df['t_minus'] - Ylim[0]) / Ylim[1]\n",
    "    \n",
    "    with open('ranges.pickle', 'wb') as pkl:\n",
    "        pickle.dump([Xlim, Ylim, X_inverted, Y_inverted], pkl)\n",
    "    \n",
    "    while True:\n",
    "        # Take batch_size randomly-selected segments, with replacement\n",
    "        segs = np.random.permutation(n_segments)[:batch_size]\n",
    "        data = df[df['segnum'].isin(segs)][['acoustic_data', 't_minus']].values\n",
    "        X = data[:,0].reshape((batch_size, segment_length))\n",
    "        y = data[:,1].reshape((batch_size, segment_length))\n",
    "        \n",
    "        for idx in range(int(segment_length / timesteps)):\n",
    "            start = idx * timesteps\n",
    "            end = start + timesteps\n",
    "            yield X[:, start:end], y[:, start:end]\n",
    "            step += 1\n",
    "            if step > num_steps:\n",
    "                raise Exception('finished')"
   ]
  },
  {
   "cell_type": "markdown",
   "metadata": {},
   "source": [
    "Now, we can loop over X, y in the data loop generator and feed data into our network:"
   ]
  },
  {
   "cell_type": "code",
   "execution_count": 35,
   "metadata": {},
   "outputs": [],
   "source": [
    "NUM_STEPS = 5000\n",
    "PRINT_EVERY = 250"
   ]
  },
  {
   "cell_type": "code",
   "execution_count": 2,
   "metadata": {},
   "outputs": [],
   "source": [
    "def timestamp():\n",
    "    return time.strftime('%Y-%m-%d %H:%M:%S')"
   ]
  },
  {
   "cell_type": "code",
   "execution_count": 37,
   "metadata": {},
   "outputs": [
    {
     "name": "stdout",
     "output_type": "stream",
     "text": [
      "[2019-01-16 23:33:54] Step=0 MSE=1.095435\n",
      "[2019-01-16 23:34:13] Step=250 MSE=0.027786\n",
      "[2019-01-16 23:34:34] Step=500 MSE=0.024714\n",
      "[2019-01-16 23:34:53] Step=750 MSE=0.017794\n",
      "[2019-01-16 23:35:13] Step=1000 MSE=0.018922\n",
      "[2019-01-16 23:35:33] Step=1250 MSE=0.001011\n",
      "[2019-01-16 23:35:53] Step=1500 MSE=0.005321\n",
      "[2019-01-16 23:36:14] Step=1750 MSE=0.003956\n",
      "[2019-01-16 23:36:33] Step=2000 MSE=0.001044\n",
      "[2019-01-16 23:36:54] Step=2250 MSE=0.001899\n",
      "[2019-01-16 23:37:14] Step=2500 MSE=0.002997\n"
     ]
    },
    {
     "ename": "KeyboardInterrupt",
     "evalue": "",
     "output_type": "error",
     "traceback": [
      "\u001b[0;31m\u001b[0m",
      "\u001b[0;31mKeyboardInterrupt\u001b[0mTraceback (most recent call last)",
      "\u001b[0;32m<ipython-input-37-28eaef9991de>\u001b[0m in \u001b[0;36m<module>\u001b[0;34m\u001b[0m\n\u001b[1;32m      7\u001b[0m \u001b[0;32mfor\u001b[0m \u001b[0mstep\u001b[0m \u001b[0;32min\u001b[0m \u001b[0mrange\u001b[0m\u001b[0;34m(\u001b[0m\u001b[0mNUM_STEPS\u001b[0m\u001b[0;34m)\u001b[0m\u001b[0;34m:\u001b[0m\u001b[0;34m\u001b[0m\u001b[0m\n\u001b[1;32m      8\u001b[0m     \u001b[0mX\u001b[0m\u001b[0;34m,\u001b[0m \u001b[0my\u001b[0m \u001b[0;34m=\u001b[0m \u001b[0mnext\u001b[0m\u001b[0;34m(\u001b[0m\u001b[0mdlg\u001b[0m\u001b[0;34m)\u001b[0m\u001b[0;34m\u001b[0m\u001b[0m\n\u001b[0;32m----> 9\u001b[0;31m     \u001b[0mmse\u001b[0m\u001b[0;34m,\u001b[0m \u001b[0m_\u001b[0m \u001b[0;34m=\u001b[0m \u001b[0msess\u001b[0m\u001b[0;34m.\u001b[0m\u001b[0mrun\u001b[0m\u001b[0;34m(\u001b[0m\u001b[0;34m[\u001b[0m\u001b[0mloss\u001b[0m\u001b[0;34m,\u001b[0m \u001b[0mtrain_op\u001b[0m\u001b[0;34m]\u001b[0m\u001b[0;34m,\u001b[0m \u001b[0mfeed_dict\u001b[0m\u001b[0;34m=\u001b[0m\u001b[0;34m{\u001b[0m\u001b[0mtf_X\u001b[0m\u001b[0;34m:\u001b[0m \u001b[0mX\u001b[0m\u001b[0;34m,\u001b[0m \u001b[0mtf_y\u001b[0m\u001b[0;34m:\u001b[0m \u001b[0my\u001b[0m\u001b[0;34m}\u001b[0m\u001b[0;34m)\u001b[0m\u001b[0;34m\u001b[0m\u001b[0m\n\u001b[0m\u001b[1;32m     10\u001b[0m     \u001b[0mhistory\u001b[0m\u001b[0;34m.\u001b[0m\u001b[0mappend\u001b[0m\u001b[0;34m(\u001b[0m\u001b[0mmse\u001b[0m\u001b[0;34m)\u001b[0m\u001b[0;34m\u001b[0m\u001b[0m\n\u001b[1;32m     11\u001b[0m     \u001b[0;32mif\u001b[0m \u001b[0mstep\u001b[0m \u001b[0;34m%\u001b[0m \u001b[0mPRINT_EVERY\u001b[0m \u001b[0;34m==\u001b[0m \u001b[0;36m0\u001b[0m \u001b[0;32mor\u001b[0m \u001b[0mstep\u001b[0m \u001b[0;34m==\u001b[0m \u001b[0mNUM_STEPS\u001b[0m\u001b[0;34m-\u001b[0m\u001b[0;36m1\u001b[0m\u001b[0;34m:\u001b[0m\u001b[0;34m\u001b[0m\u001b[0m\n",
      "\u001b[0;32m/usr/local/lib/python3.5/dist-packages/tensorflow/python/client/session.py\u001b[0m in \u001b[0;36mrun\u001b[0;34m(self, fetches, feed_dict, options, run_metadata)\u001b[0m\n\u001b[1;32m    927\u001b[0m     \u001b[0;32mtry\u001b[0m\u001b[0;34m:\u001b[0m\u001b[0;34m\u001b[0m\u001b[0m\n\u001b[1;32m    928\u001b[0m       result = self._run(None, fetches, feed_dict, options_ptr,\n\u001b[0;32m--> 929\u001b[0;31m                          run_metadata_ptr)\n\u001b[0m\u001b[1;32m    930\u001b[0m       \u001b[0;32mif\u001b[0m \u001b[0mrun_metadata\u001b[0m\u001b[0;34m:\u001b[0m\u001b[0;34m\u001b[0m\u001b[0m\n\u001b[1;32m    931\u001b[0m         \u001b[0mproto_data\u001b[0m \u001b[0;34m=\u001b[0m \u001b[0mtf_session\u001b[0m\u001b[0;34m.\u001b[0m\u001b[0mTF_GetBuffer\u001b[0m\u001b[0;34m(\u001b[0m\u001b[0mrun_metadata_ptr\u001b[0m\u001b[0;34m)\u001b[0m\u001b[0;34m\u001b[0m\u001b[0m\n",
      "\u001b[0;32m/usr/local/lib/python3.5/dist-packages/tensorflow/python/client/session.py\u001b[0m in \u001b[0;36m_run\u001b[0;34m(self, handle, fetches, feed_dict, options, run_metadata)\u001b[0m\n\u001b[1;32m   1150\u001b[0m     \u001b[0;32mif\u001b[0m \u001b[0mfinal_fetches\u001b[0m \u001b[0;32mor\u001b[0m \u001b[0mfinal_targets\u001b[0m \u001b[0;32mor\u001b[0m \u001b[0;34m(\u001b[0m\u001b[0mhandle\u001b[0m \u001b[0;32mand\u001b[0m \u001b[0mfeed_dict_tensor\u001b[0m\u001b[0;34m)\u001b[0m\u001b[0;34m:\u001b[0m\u001b[0;34m\u001b[0m\u001b[0m\n\u001b[1;32m   1151\u001b[0m       results = self._do_run(handle, final_targets, final_fetches,\n\u001b[0;32m-> 1152\u001b[0;31m                              feed_dict_tensor, options, run_metadata)\n\u001b[0m\u001b[1;32m   1153\u001b[0m     \u001b[0;32melse\u001b[0m\u001b[0;34m:\u001b[0m\u001b[0;34m\u001b[0m\u001b[0m\n\u001b[1;32m   1154\u001b[0m       \u001b[0mresults\u001b[0m \u001b[0;34m=\u001b[0m \u001b[0;34m[\u001b[0m\u001b[0;34m]\u001b[0m\u001b[0;34m\u001b[0m\u001b[0m\n",
      "\u001b[0;32m/usr/local/lib/python3.5/dist-packages/tensorflow/python/client/session.py\u001b[0m in \u001b[0;36m_do_run\u001b[0;34m(self, handle, target_list, fetch_list, feed_dict, options, run_metadata)\u001b[0m\n\u001b[1;32m   1326\u001b[0m     \u001b[0;32mif\u001b[0m \u001b[0mhandle\u001b[0m \u001b[0;32mis\u001b[0m \u001b[0;32mNone\u001b[0m\u001b[0;34m:\u001b[0m\u001b[0;34m\u001b[0m\u001b[0m\n\u001b[1;32m   1327\u001b[0m       return self._do_call(_run_fn, feeds, fetches, targets, options,\n\u001b[0;32m-> 1328\u001b[0;31m                            run_metadata)\n\u001b[0m\u001b[1;32m   1329\u001b[0m     \u001b[0;32melse\u001b[0m\u001b[0;34m:\u001b[0m\u001b[0;34m\u001b[0m\u001b[0m\n\u001b[1;32m   1330\u001b[0m       \u001b[0;32mreturn\u001b[0m \u001b[0mself\u001b[0m\u001b[0;34m.\u001b[0m\u001b[0m_do_call\u001b[0m\u001b[0;34m(\u001b[0m\u001b[0m_prun_fn\u001b[0m\u001b[0;34m,\u001b[0m \u001b[0mhandle\u001b[0m\u001b[0;34m,\u001b[0m \u001b[0mfeeds\u001b[0m\u001b[0;34m,\u001b[0m \u001b[0mfetches\u001b[0m\u001b[0;34m)\u001b[0m\u001b[0;34m\u001b[0m\u001b[0m\n",
      "\u001b[0;32m/usr/local/lib/python3.5/dist-packages/tensorflow/python/client/session.py\u001b[0m in \u001b[0;36m_do_call\u001b[0;34m(self, fn, *args)\u001b[0m\n\u001b[1;32m   1332\u001b[0m   \u001b[0;32mdef\u001b[0m \u001b[0m_do_call\u001b[0m\u001b[0;34m(\u001b[0m\u001b[0mself\u001b[0m\u001b[0;34m,\u001b[0m \u001b[0mfn\u001b[0m\u001b[0;34m,\u001b[0m \u001b[0;34m*\u001b[0m\u001b[0margs\u001b[0m\u001b[0;34m)\u001b[0m\u001b[0;34m:\u001b[0m\u001b[0;34m\u001b[0m\u001b[0m\n\u001b[1;32m   1333\u001b[0m     \u001b[0;32mtry\u001b[0m\u001b[0;34m:\u001b[0m\u001b[0;34m\u001b[0m\u001b[0m\n\u001b[0;32m-> 1334\u001b[0;31m       \u001b[0;32mreturn\u001b[0m \u001b[0mfn\u001b[0m\u001b[0;34m(\u001b[0m\u001b[0;34m*\u001b[0m\u001b[0margs\u001b[0m\u001b[0;34m)\u001b[0m\u001b[0;34m\u001b[0m\u001b[0m\n\u001b[0m\u001b[1;32m   1335\u001b[0m     \u001b[0;32mexcept\u001b[0m \u001b[0merrors\u001b[0m\u001b[0;34m.\u001b[0m\u001b[0mOpError\u001b[0m \u001b[0;32mas\u001b[0m \u001b[0me\u001b[0m\u001b[0;34m:\u001b[0m\u001b[0;34m\u001b[0m\u001b[0m\n\u001b[1;32m   1336\u001b[0m       \u001b[0mmessage\u001b[0m \u001b[0;34m=\u001b[0m \u001b[0mcompat\u001b[0m\u001b[0;34m.\u001b[0m\u001b[0mas_text\u001b[0m\u001b[0;34m(\u001b[0m\u001b[0me\u001b[0m\u001b[0;34m.\u001b[0m\u001b[0mmessage\u001b[0m\u001b[0;34m)\u001b[0m\u001b[0;34m\u001b[0m\u001b[0m\n",
      "\u001b[0;32m/usr/local/lib/python3.5/dist-packages/tensorflow/python/client/session.py\u001b[0m in \u001b[0;36m_run_fn\u001b[0;34m(feed_dict, fetch_list, target_list, options, run_metadata)\u001b[0m\n\u001b[1;32m   1317\u001b[0m       \u001b[0mself\u001b[0m\u001b[0;34m.\u001b[0m\u001b[0m_extend_graph\u001b[0m\u001b[0;34m(\u001b[0m\u001b[0;34m)\u001b[0m\u001b[0;34m\u001b[0m\u001b[0m\n\u001b[1;32m   1318\u001b[0m       return self._call_tf_sessionrun(\n\u001b[0;32m-> 1319\u001b[0;31m           options, feed_dict, fetch_list, target_list, run_metadata)\n\u001b[0m\u001b[1;32m   1320\u001b[0m \u001b[0;34m\u001b[0m\u001b[0m\n\u001b[1;32m   1321\u001b[0m     \u001b[0;32mdef\u001b[0m \u001b[0m_prun_fn\u001b[0m\u001b[0;34m(\u001b[0m\u001b[0mhandle\u001b[0m\u001b[0;34m,\u001b[0m \u001b[0mfeed_dict\u001b[0m\u001b[0;34m,\u001b[0m \u001b[0mfetch_list\u001b[0m\u001b[0;34m)\u001b[0m\u001b[0;34m:\u001b[0m\u001b[0;34m\u001b[0m\u001b[0m\n",
      "\u001b[0;32m/usr/local/lib/python3.5/dist-packages/tensorflow/python/client/session.py\u001b[0m in \u001b[0;36m_call_tf_sessionrun\u001b[0;34m(self, options, feed_dict, fetch_list, target_list, run_metadata)\u001b[0m\n\u001b[1;32m   1405\u001b[0m     return tf_session.TF_SessionRun_wrapper(\n\u001b[1;32m   1406\u001b[0m         \u001b[0mself\u001b[0m\u001b[0;34m.\u001b[0m\u001b[0m_session\u001b[0m\u001b[0;34m,\u001b[0m \u001b[0moptions\u001b[0m\u001b[0;34m,\u001b[0m \u001b[0mfeed_dict\u001b[0m\u001b[0;34m,\u001b[0m \u001b[0mfetch_list\u001b[0m\u001b[0;34m,\u001b[0m \u001b[0mtarget_list\u001b[0m\u001b[0;34m,\u001b[0m\u001b[0;34m\u001b[0m\u001b[0m\n\u001b[0;32m-> 1407\u001b[0;31m         run_metadata)\n\u001b[0m\u001b[1;32m   1408\u001b[0m \u001b[0;34m\u001b[0m\u001b[0m\n\u001b[1;32m   1409\u001b[0m   \u001b[0;32mdef\u001b[0m \u001b[0m_call_tf_sessionprun\u001b[0m\u001b[0;34m(\u001b[0m\u001b[0mself\u001b[0m\u001b[0;34m,\u001b[0m \u001b[0mhandle\u001b[0m\u001b[0;34m,\u001b[0m \u001b[0mfeed_dict\u001b[0m\u001b[0;34m,\u001b[0m \u001b[0mfetch_list\u001b[0m\u001b[0;34m)\u001b[0m\u001b[0;34m:\u001b[0m\u001b[0;34m\u001b[0m\u001b[0m\n",
      "\u001b[0;31mKeyboardInterrupt\u001b[0m: "
     ]
    }
   ],
   "source": [
    "init = tf.global_variables_initializer()\n",
    "dlg = data_loop_generator(train_df, BATCH_SIZE, TIMESTEPS, num_steps=NUM_STEPS)\n",
    "\n",
    "init.run()\n",
    "history = []\n",
    "tracker = {}\n",
    "for step in range(NUM_STEPS):\n",
    "    X, y = next(dlg)\n",
    "    mse, _ = sess.run([loss, train_op], feed_dict={tf_X: X, tf_y: y})\n",
    "    history.append(mse)\n",
    "    if step % PRINT_EVERY == 0 or step == NUM_STEPS-1:\n",
    "        print('[%s] Step=%d MSE=%f' % (timestamp(), step, mse))\n",
    "        \n",
    "        # also track inputs, outputs, and estimate for this iteration\n",
    "        estimate = sess.run(results, feed_dict={tf_X: X, tf_y: y})\n",
    "        tracker[step] = {'X': X, 'y': y, 'estimate': estimate}"
   ]
  },
  {
   "cell_type": "code",
   "execution_count": 38,
   "metadata": {},
   "outputs": [
    {
     "data": {
      "text/plain": [
       "Text(0, 0.5, 'MSE')"
      ]
     },
     "execution_count": 38,
     "metadata": {},
     "output_type": "execute_result"
    },
    {
     "data": {
      "image/png": "[encoded data removed]",
      "text/plain": [
       "<Figure size 864x360 with 1 Axes>"
      ]
     },
     "metadata": {
      "needs_background": "light"
     },
     "output_type": "display_data"
    }
   ],
   "source": [
    "plt.figure(figsize=(12,5))\n",
    "plt.plot(history)\n",
    "plt.title('loss')\n",
    "plt.xlabel('Step num')\n",
    "plt.ylabel('MSE')"
   ]
  },
  {
   "cell_type": "markdown",
   "metadata": {},
   "source": [
    "MSE here has a special interpretation, since we scaled our outputs: it is the MSE *as a percentage of the output range*. Since the original output range was very small, that means that our model has done a pretty good job learning the relationship between the inputs and outputs, even on this relatively small (truncated) dataset."
   ]
  },
  {
   "cell_type": "markdown",
   "metadata": {},
   "source": [
    "Once we start to predict outputs, we will need to reverse the scaling operation (multiply by maximum value and add the minimum value) to take us back to the original output space. Note that as always, these values are set according to the training data. If we encounter real-world data outside this range, our model is unlikely to perform as well."
   ]
  },
  {
   "cell_type": "code",
   "execution_count": 42,
   "metadata": {},
   "outputs": [
    {
     "name": "stdout",
     "output_type": "stream",
     "text": [
      "Status after 2500 steps: \n"
     ]
    },
    {
     "data": {
      "text/plain": [
       "{'X': array([[0.96153846, 0.92307692, 0.99038462, ..., 0.99038462, 0.91346154,\n",
       "         0.93269231],\n",
       "        [0.93269231, 0.99038462, 0.96153846, ..., 0.97115385, 1.        ,\n",
       "         1.00961538],\n",
       "        [0.99038462, 0.97115385, 0.96153846, ..., 0.89423077, 0.93269231,\n",
       "         0.96153846],\n",
       "        ...,\n",
       "        [0.96153846, 0.98076923, 1.01923077, ..., 1.        , 0.98076923,\n",
       "         0.99038462],\n",
       "        [1.08653846, 1.15384615, 1.19230769, ..., 1.10576923, 1.06730769,\n",
       "         1.05769231],\n",
       "        [0.98076923, 1.        , 1.00961538, ..., 0.98076923, 1.02884615,\n",
       "         1.        ]]),\n",
       " 'estimate': array([[ 0.0009975 ,  0.00027915,  0.00303189, ..., -0.00026269,\n",
       "          0.00182343,  0.00027052],\n",
       "        [-0.00176849, -0.00211448, -0.00165746, ..., -0.00292989,\n",
       "         -0.00192838, -0.00225342],\n",
       "        [-0.00400458, -0.00397558, -0.00380787, ..., -0.00469455,\n",
       "         -0.00408778, -0.00406433],\n",
       "        ...,\n",
       "        [-0.00899737, -0.00933975, -0.00871679, ..., -0.00980477,\n",
       "         -0.00868999, -0.00887667],\n",
       "        [-0.01131457, -0.01158485, -0.01101646, ..., -0.01220822,\n",
       "         -0.0111397 , -0.01106421],\n",
       "        [-0.01211742, -0.01235028, -0.01177432, ..., -0.01304055,\n",
       "         -0.01202307, -0.01208231]]),\n",
       " 'y': array([[-3.89839941e-07, -3.90601347e-07, -3.91362753e-07, ...,\n",
       "         -4.85015707e-07, -4.85777114e-07, -4.86538520e-07],\n",
       "        [-2.21538874e-03, -2.21538950e-03, -2.21539026e-03, ...,\n",
       "         -2.21548392e-03, -2.21548468e-03, -2.21548544e-03],\n",
       "        [-5.12257580e-03, -5.12257656e-03, -5.12257732e-03, ...,\n",
       "         -5.12267097e-03, -5.12267173e-03, -5.12267250e-03],\n",
       "        ...,\n",
       "        [-1.17675748e-02, -1.17675755e-02, -1.17675763e-02, ...,\n",
       "         -1.17676700e-02, -1.17676707e-02, -1.17676715e-02],\n",
       "        [-1.54361680e-02, -1.54361687e-02, -1.54361695e-02, ...,\n",
       "         -1.54362632e-02, -1.54362639e-02, -1.54362647e-02],\n",
       "        [-1.68897615e-02, -1.68897623e-02, -1.68897630e-02, ...,\n",
       "         -1.68898567e-02, -1.68898574e-02, -1.68898582e-02]])}"
      ]
     },
     "execution_count": 42,
     "metadata": {},
     "output_type": "execute_result"
    }
   ],
   "source": [
    "key = max(tracker.keys())\n",
    "print('Status after %d steps: ' % key)\n",
    "tracker[key]"
   ]
  },
  {
   "cell_type": "markdown",
   "metadata": {},
   "source": [
    "## Train on entire dataset"
   ]
  },
  {
   "cell_type": "code",
   "execution_count": 5,
   "metadata": {},
   "outputs": [],
   "source": [
    "df = pd.read_csv('/workspace/persistent-data/earthquake/train/train.csv', header=0,\n",
    "                 dtype={'acoustic_data': np.int16, 'time_to_failure': np.float64}, engine='c')"
   ]
  },
  {
   "cell_type": "code",
   "execution_count": 6,
   "metadata": {},
   "outputs": [],
   "source": [
    "df['t_minus'] = -df['time_to_failure']"
   ]
  },
  {
   "cell_type": "code",
   "execution_count": 7,
   "metadata": {},
   "outputs": [],
   "source": [
    "df['t_diff'] = df['t_minus'].diff().fillna(1.1e-9)  # fill first nan with expected spacing value"
   ]
  },
  {
   "cell_type": "code",
   "execution_count": 8,
   "metadata": {},
   "outputs": [
    {
     "data": {
      "text/html": [
       "<div>\n",
       "<style scoped>\n",
       "    .dataframe tbody tr th:only-of-type {\n",
       "        vertical-align: middle;\n",
       "    }\n",
       "\n",
       "    .dataframe tbody tr th {\n",
       "        vertical-align: top;\n",
       "    }\n",
       "\n",
       "    .dataframe thead th {\n",
       "        text-align: right;\n",
       "    }\n",
       "</style>\n",
       "<table border=\"1\" class=\"dataframe\">\n",
       "  <thead>\n",
       "    <tr style=\"text-align: right;\">\n",
       "      <th></th>\n",
       "      <th>acoustic_data</th>\n",
       "      <th>time_to_failure</th>\n",
       "      <th>t_minus</th>\n",
       "      <th>t_diff</th>\n",
       "    </tr>\n",
       "  </thead>\n",
       "  <tbody>\n",
       "    <tr>\n",
       "      <th>0</th>\n",
       "      <td>12</td>\n",
       "      <td>1.4691</td>\n",
       "      <td>-1.4691</td>\n",
       "      <td>1.100000e-09</td>\n",
       "    </tr>\n",
       "    <tr>\n",
       "      <th>1</th>\n",
       "      <td>6</td>\n",
       "      <td>1.4691</td>\n",
       "      <td>-1.4691</td>\n",
       "      <td>1.100000e-09</td>\n",
       "    </tr>\n",
       "    <tr>\n",
       "      <th>2</th>\n",
       "      <td>8</td>\n",
       "      <td>1.4691</td>\n",
       "      <td>-1.4691</td>\n",
       "      <td>1.100000e-09</td>\n",
       "    </tr>\n",
       "  </tbody>\n",
       "</table>\n",
       "</div>"
      ],
      "text/plain": [
       "   acoustic_data  time_to_failure  t_minus        t_diff\n",
       "0             12           1.4691  -1.4691  1.100000e-09\n",
       "1              6           1.4691  -1.4691  1.100000e-09\n",
       "2              8           1.4691  -1.4691  1.100000e-09"
      ]
     },
     "execution_count": 8,
     "metadata": {},
     "output_type": "execute_result"
    }
   ],
   "source": [
    "df.head(3)"
   ]
  },
  {
   "cell_type": "code",
   "execution_count": 9,
   "metadata": {},
   "outputs": [],
   "source": [
    "df['segnum'] = (df['t_diff'] >= 4e-9).astype(int).fillna(0).abs().cumsum()"
   ]
  },
  {
   "cell_type": "code",
   "execution_count": 10,
   "metadata": {},
   "outputs": [],
   "source": [
    "df = df.drop('time_to_failure', axis=1)"
   ]
  },
  {
   "cell_type": "code",
   "execution_count": 11,
   "metadata": {},
   "outputs": [
    {
     "data": {
      "text/html": [
       "<div>\n",
       "<style scoped>\n",
       "    .dataframe tbody tr th:only-of-type {\n",
       "        vertical-align: middle;\n",
       "    }\n",
       "\n",
       "    .dataframe tbody tr th {\n",
       "        vertical-align: top;\n",
       "    }\n",
       "\n",
       "    .dataframe thead th {\n",
       "        text-align: right;\n",
       "    }\n",
       "</style>\n",
       "<table border=\"1\" class=\"dataframe\">\n",
       "  <thead>\n",
       "    <tr style=\"text-align: right;\">\n",
       "      <th></th>\n",
       "      <th>acoustic_data</th>\n",
       "      <th>t_minus</th>\n",
       "      <th>t_diff</th>\n",
       "      <th>segnum</th>\n",
       "    </tr>\n",
       "  </thead>\n",
       "  <tbody>\n",
       "    <tr>\n",
       "      <th>0</th>\n",
       "      <td>12</td>\n",
       "      <td>-1.4691</td>\n",
       "      <td>1.100000e-09</td>\n",
       "      <td>0</td>\n",
       "    </tr>\n",
       "    <tr>\n",
       "      <th>1</th>\n",
       "      <td>6</td>\n",
       "      <td>-1.4691</td>\n",
       "      <td>1.100000e-09</td>\n",
       "      <td>0</td>\n",
       "    </tr>\n",
       "    <tr>\n",
       "      <th>2</th>\n",
       "      <td>8</td>\n",
       "      <td>-1.4691</td>\n",
       "      <td>1.100000e-09</td>\n",
       "      <td>0</td>\n",
       "    </tr>\n",
       "  </tbody>\n",
       "</table>\n",
       "</div>"
      ],
      "text/plain": [
       "   acoustic_data  t_minus        t_diff  segnum\n",
       "0             12  -1.4691  1.100000e-09       0\n",
       "1              6  -1.4691  1.100000e-09       0\n",
       "2              8  -1.4691  1.100000e-09       0"
      ]
     },
     "execution_count": 11,
     "metadata": {},
     "output_type": "execute_result"
    }
   ],
   "source": [
    "df.head(3)"
   ]
  },
  {
   "cell_type": "markdown",
   "metadata": {},
   "source": [
    "### Let's explore irregular sequence shapes"
   ]
  },
  {
   "cell_type": "code",
   "execution_count": 11,
   "metadata": {},
   "outputs": [
    {
     "data": {
      "text/plain": [
       "count    153584.000000\n",
       "mean       4096.425930\n",
       "std          41.804778\n",
       "min        4095.000000\n",
       "25%        4096.000000\n",
       "50%        4096.000000\n",
       "75%        4096.000000\n",
       "max        8192.000000\n",
       "dtype: float64"
      ]
     },
     "execution_count": 11,
     "metadata": {},
     "output_type": "execute_result"
    }
   ],
   "source": [
    "df.groupby('segnum').size().describe()"
   ]
  },
  {
   "cell_type": "code",
   "execution_count": 12,
   "metadata": {},
   "outputs": [],
   "source": [
    "segsize = df.groupby('segnum').size()"
   ]
  },
  {
   "cell_type": "code",
   "execution_count": 16,
   "metadata": {},
   "outputs": [
    {
     "data": {
      "text/plain": [
       "(136,)"
      ]
     },
     "execution_count": 16,
     "metadata": {},
     "output_type": "execute_result"
    }
   ],
   "source": [
    "segsize[segsize != 4096].shape"
   ]
  },
  {
   "cell_type": "code",
   "execution_count": 18,
   "metadata": {},
   "outputs": [
    {
     "data": {
      "text/plain": [
       "4095    120\n",
       "8192     16\n",
       "dtype: int64"
      ]
     },
     "execution_count": 18,
     "metadata": {},
     "output_type": "execute_result"
    }
   ],
   "source": [
    "segsize[segsize != 4096].value_counts()"
   ]
  },
  {
   "cell_type": "code",
   "execution_count": 26,
   "metadata": {},
   "outputs": [
    {
     "data": {
      "text/plain": [
       "0       NaN\n",
       "1    1280.0\n",
       "2    1279.0\n",
       "3    1280.0\n",
       "4    1280.0\n",
       "5    1280.0\n",
       "6    1280.0\n",
       "7    1280.0\n",
       "8    1280.0\n",
       "9    1280.0\n",
       "Name: segnum, dtype: float64"
      ]
     },
     "execution_count": 26,
     "metadata": {},
     "output_type": "execute_result"
    }
   ],
   "source": [
    "pd.Series(segsize[segsize == 4095].index).diff().head(10)"
   ]
  },
  {
   "cell_type": "markdown",
   "metadata": {},
   "source": [
    "So there appears to be a regular pattern to the sequences having only length=4,095 - they occur (roughly) every 1280 sequences."
   ]
  },
  {
   "cell_type": "code",
   "execution_count": 35,
   "metadata": {},
   "outputs": [
    {
     "data": {
      "text/plain": [
       "0         NaN\n",
       "1     10846.0\n",
       "2     13327.0\n",
       "3      8323.0\n",
       "4     11930.0\n",
       "5      7570.0\n",
       "6      6634.0\n",
       "7     15138.0\n",
       "8      7430.0\n",
       "9      9057.0\n",
       "10    10739.0\n",
       "11    10361.0\n",
       "12     8297.0\n",
       "13     8050.0\n",
       "14    13864.0\n",
       "15     8890.0\n",
       "Name: segnum, dtype: float64"
      ]
     },
     "execution_count": 35,
     "metadata": {},
     "output_type": "execute_result"
    }
   ],
   "source": [
    "pd.Series(segsize[segsize == 8192].index).diff()"
   ]
  },
  {
   "cell_type": "markdown",
   "metadata": {},
   "source": [
    "No such regular pattern to the 8192's. Let's see what is the actual spacing in the 8192's."
   ]
  },
  {
   "cell_type": "code",
   "execution_count": 41,
   "metadata": {},
   "outputs": [],
   "source": [
    "ei_df = df[df['segnum'].isin(segsize[segsize == 8192].index)]"
   ]
  },
  {
   "cell_type": "code",
   "execution_count": 45,
   "metadata": {},
   "outputs": [
    {
     "data": {
      "text/plain": [
       "count    1.310720e+05\n",
       "mean    -1.309849e-03\n",
       "std      1.219251e-01\n",
       "min     -1.610690e+01\n",
       "25%      1.099580e-09\n",
       "50%      1.100000e-09\n",
       "75%      1.100030e-09\n",
       "max      1.095496e-03\n",
       "Name: t_diff, dtype: float64"
      ]
     },
     "execution_count": 45,
     "metadata": {},
     "output_type": "execute_result"
    }
   ],
   "source": [
    "ei_df['t_diff'].describe()"
   ]
  },
  {
   "cell_type": "markdown",
   "metadata": {},
   "source": [
    "min values less than 0? interesting..."
   ]
  },
  {
   "cell_type": "code",
   "execution_count": 44,
   "metadata": {},
   "outputs": [
    {
     "data": {
      "text/plain": [
       "16"
      ]
     },
     "execution_count": 44,
     "metadata": {},
     "output_type": "execute_result"
    }
   ],
   "source": [
    "(ei_df['t_diff'] < 0).sum()"
   ]
  },
  {
   "cell_type": "markdown",
   "metadata": {},
   "source": [
    "Ah, there it is - these sequences weren't flagged by the segmenter because they begin *before* the previous sequence ends. Not in row-order, but in time-order. Sorting could possibly lead to mixing some of their values in with the values of other sequences, so we don't want to do that."
   ]
  },
  {
   "cell_type": "markdown",
   "metadata": {},
   "source": [
    "## Write the data to TFRecords"
   ]
  },
  {
   "cell_type": "code",
   "execution_count": 3,
   "metadata": {},
   "outputs": [],
   "source": [
    "import os.path as osp"
   ]
  },
  {
   "cell_type": "code",
   "execution_count": 22,
   "metadata": {},
   "outputs": [],
   "source": [
    "def write_seg(sdf, segnum, outdir='/workspace/persistent-data/earthquake/segments'):\n",
    "    if len(sdf) == 4095:\n",
    "        # Duplicate last entry\n",
    "        sdf = sdf.append(sdf.iloc[-1], ignore_index=True)\n",
    "    \n",
    "    if len(sdf) == 8192:\n",
    "        # Split segments\n",
    "        write_seg(sdf.iloc[:4096], str(segnum) + '_1')\n",
    "        write_seg(sdf.iloc[4096:], str(segnum) + '_2')\n",
    "    else:\n",
    "        if len(sdf) != 4096:\n",
    "            print('[%s] ERROR: Segment ' + str(segnum) + ' has irregular length: %d' % (timestamp(), segnum))\n",
    "            return\n",
    "        if (sdf['t_minus'].iloc[1:].diff() < 0).sum() > 0:\n",
    "            print('[%s] ERROR: Segment ' + str(segnum) + ' has %d decreasing timesteps' % (timestamp(),\n",
    "                                                                                           sdf['t_minus'].iloc[1:].diff() < 0).sum())\n",
    "            return\n",
    "        outpath = osp.join(outdir, str(segnum) + '.pickle')\n",
    "        sdf[['t_minus', 'acoustic_data']].reset_index(drop=True).to_pickle(outpath)"
   ]
  },
  {
   "cell_type": "code",
   "execution_count": null,
   "metadata": {},
   "outputs": [
    {
     "name": "stdout",
     "output_type": "stream",
     "text": [
      "[2019-01-18 05:33:07] started writing 153584 segments\n",
      "[2019-01-18 05:34:02] Wrote 1000 segments\n",
      "[2019-01-18 05:34:05] Wrote 2000 segments\n",
      "[2019-01-18 05:34:08] Wrote 3000 segments\n",
      "[2019-01-18 05:34:10] Wrote 4000 segments\n",
      "[2019-01-18 05:34:13] Wrote 5000 segments\n",
      "[2019-01-18 05:34:15] Wrote 6000 segments\n",
      "[2019-01-18 05:34:17] Wrote 7000 segments\n",
      "[2019-01-18 05:34:20] Wrote 8000 segments\n",
      "[2019-01-18 05:34:22] Wrote 9000 segments\n",
      "[2019-01-18 05:34:24] Wrote 10000 segments\n",
      "[2019-01-18 05:34:27] Wrote 11000 segments\n",
      "[2019-01-18 05:34:29] Wrote 12000 segments\n",
      "[2019-01-18 05:34:32] Wrote 13000 segments\n",
      "[2019-01-18 05:34:34] Wrote 14000 segments\n",
      "[2019-01-18 05:34:36] Wrote 15000 segments\n",
      "[2019-01-18 05:34:39] Wrote 16000 segments\n",
      "[2019-01-18 05:34:41] Wrote 17000 segments\n",
      "[2019-01-18 05:34:44] Wrote 18000 segments\n",
      "[2019-01-18 05:34:46] Wrote 19000 segments\n",
      "[2019-01-18 05:34:48] Wrote 20000 segments\n"
     ]
    }
   ],
   "source": [
    "i = 0\n",
    "print('[%s] started writing %d segments' % (timestamp(), df['segnum'].nunique()))\n",
    "for segnum, sdf in df.groupby('segnum'):\n",
    "    write_seg(sdf, segnum)\n",
    "    i += 1\n",
    "    if i % 1000 == 0:\n",
    "        print('[%s] Wrote %d segments' % (timestamp(), i))"
   ]
  },
  {
   "cell_type": "markdown",
   "metadata": {},
   "source": [
    "Anyway, the above completed but failed on the segments where length=4095. Let's find out why.\n",
    "\n",
    "[EDIT]: Ah, a broken if-statement... whoops."
   ]
  },
  {
   "cell_type": "code",
   "execution_count": 14,
   "metadata": {},
   "outputs": [],
   "source": [
    "df = df[df['segnum'].isin(segsize[segsize == 4095].index)]"
   ]
  },
  {
   "cell_type": "code",
   "execution_count": 15,
   "metadata": {},
   "outputs": [
    {
     "data": {
      "text/plain": [
       "True"
      ]
     },
     "execution_count": 15,
     "metadata": {},
     "output_type": "execute_result"
    }
   ],
   "source": [
    "df['segnum'].nunique() == 120"
   ]
  },
  {
   "cell_type": "code",
   "execution_count": 23,
   "metadata": {},
   "outputs": [
    {
     "name": "stdout",
     "output_type": "stream",
     "text": [
      "[2019-01-18 06:20:32] started writing 120 segments\n",
      "writing segment 0 (len=4095)\n",
      "writing segment 1280 (len=4095)\n",
      "writing segment 2559 (len=4095)\n",
      "writing segment 3839 (len=4095)\n",
      "writing segment 5119 (len=4095)\n",
      "writing segment 6399 (len=4095)\n",
      "writing segment 7679 (len=4095)\n",
      "writing segment 8959 (len=4095)\n",
      "writing segment 10239 (len=4095)\n",
      "writing segment 11519 (len=4095)\n",
      "[2019-01-18 06:20:32] Wrote 10 segments\n",
      "writing segment 12798 (len=4095)\n",
      "writing segment 14078 (len=4095)\n",
      "writing segment 15358 (len=4095)\n",
      "writing segment 16638 (len=4095)\n",
      "writing segment 17918 (len=4095)\n",
      "writing segment 19198 (len=4095)\n",
      "writing segment 20478 (len=4095)\n",
      "writing segment 21758 (len=4095)\n",
      "writing segment 23038 (len=4095)\n",
      "writing segment 24318 (len=4095)\n",
      "[2019-01-18 06:20:32] Wrote 20 segments\n",
      "writing segment 25597 (len=4095)\n",
      "writing segment 26877 (len=4095)\n",
      "writing segment 28157 (len=4095)\n",
      "writing segment 29437 (len=4095)\n",
      "writing segment 30717 (len=4095)\n",
      "writing segment 31997 (len=4095)\n",
      "writing segment 33277 (len=4095)\n",
      "writing segment 34556 (len=4095)\n",
      "writing segment 35836 (len=4095)\n",
      "writing segment 37116 (len=4095)\n",
      "[2019-01-18 06:20:32] Wrote 30 segments\n",
      "writing segment 38396 (len=4095)\n",
      "writing segment 39676 (len=4095)\n",
      "writing segment 40956 (len=4095)\n",
      "writing segment 42236 (len=4095)\n",
      "writing segment 43516 (len=4095)\n",
      "writing segment 44796 (len=4095)\n",
      "writing segment 46075 (len=4095)\n",
      "writing segment 47355 (len=4095)\n",
      "writing segment 48635 (len=4095)\n",
      "writing segment 49915 (len=4095)\n",
      "[2019-01-18 06:20:32] Wrote 40 segments\n",
      "writing segment 51195 (len=4095)\n",
      "writing segment 52475 (len=4095)\n",
      "writing segment 53754 (len=4095)\n",
      "writing segment 55034 (len=4095)\n",
      "writing segment 56314 (len=4095)\n",
      "writing segment 57594 (len=4095)\n",
      "writing segment 58874 (len=4095)\n",
      "writing segment 60153 (len=4095)\n",
      "writing segment 61433 (len=4095)\n",
      "writing segment 62713 (len=4095)\n",
      "[2019-01-18 06:20:32] Wrote 50 segments\n",
      "writing segment 63993 (len=4095)\n",
      "writing segment 65273 (len=4095)\n",
      "writing segment 66553 (len=4095)\n",
      "writing segment 67833 (len=4095)\n",
      "writing segment 69113 (len=4095)\n",
      "writing segment 70393 (len=4095)\n",
      "writing segment 71673 (len=4095)\n",
      "writing segment 72953 (len=4095)\n",
      "writing segment 74233 (len=4095)\n",
      "writing segment 75512 (len=4095)\n",
      "[2019-01-18 06:20:32] Wrote 60 segments\n",
      "writing segment 76792 (len=4095)\n",
      "writing segment 78072 (len=4095)\n",
      "writing segment 79352 (len=4095)\n",
      "writing segment 80632 (len=4095)\n",
      "writing segment 81912 (len=4095)\n",
      "writing segment 83191 (len=4095)\n",
      "writing segment 84471 (len=4095)\n",
      "writing segment 85751 (len=4095)\n",
      "writing segment 87031 (len=4095)\n",
      "writing segment 88311 (len=4095)\n",
      "[2019-01-18 06:20:33] Wrote 70 segments\n",
      "writing segment 89591 (len=4095)\n",
      "writing segment 90871 (len=4095)\n",
      "writing segment 92150 (len=4095)\n",
      "writing segment 93430 (len=4095)\n",
      "writing segment 94710 (len=4095)\n",
      "writing segment 95990 (len=4095)\n",
      "writing segment 97270 (len=4095)\n",
      "writing segment 98550 (len=4095)\n",
      "writing segment 99830 (len=4095)\n",
      "writing segment 101110 (len=4095)\n",
      "[2019-01-18 06:20:33] Wrote 80 segments\n",
      "writing segment 102389 (len=4095)\n",
      "writing segment 103669 (len=4095)\n",
      "writing segment 104949 (len=4095)\n",
      "writing segment 106229 (len=4095)\n",
      "writing segment 107509 (len=4095)\n",
      "writing segment 108789 (len=4095)\n",
      "writing segment 110069 (len=4095)\n",
      "writing segment 111349 (len=4095)\n",
      "writing segment 112629 (len=4095)\n",
      "writing segment 113908 (len=4095)\n",
      "[2019-01-18 06:20:33] Wrote 90 segments\n",
      "writing segment 115188 (len=4095)\n",
      "writing segment 116468 (len=4095)\n",
      "writing segment 117748 (len=4095)\n",
      "writing segment 119028 (len=4095)\n",
      "writing segment 120308 (len=4095)\n",
      "writing segment 121587 (len=4095)\n",
      "writing segment 122867 (len=4095)\n",
      "writing segment 124147 (len=4095)\n",
      "writing segment 125427 (len=4095)\n",
      "writing segment 126707 (len=4095)\n",
      "[2019-01-18 06:20:33] Wrote 100 segments\n",
      "writing segment 127987 (len=4095)\n",
      "writing segment 129266 (len=4095)\n",
      "writing segment 130546 (len=4095)\n",
      "writing segment 131826 (len=4095)\n",
      "writing segment 133106 (len=4095)\n",
      "writing segment 134386 (len=4095)\n",
      "writing segment 135666 (len=4095)\n",
      "writing segment 136946 (len=4095)\n",
      "writing segment 138226 (len=4095)\n",
      "writing segment 139506 (len=4095)\n",
      "[2019-01-18 06:20:33] Wrote 110 segments\n",
      "writing segment 140786 (len=4095)\n",
      "writing segment 142066 (len=4095)\n",
      "writing segment 143345 (len=4095)\n",
      "writing segment 144625 (len=4095)\n",
      "writing segment 145905 (len=4095)\n",
      "writing segment 147185 (len=4095)\n",
      "writing segment 148465 (len=4095)\n",
      "writing segment 149745 (len=4095)\n",
      "writing segment 151025 (len=4095)\n",
      "writing segment 152304 (len=4095)\n",
      "[2019-01-18 06:20:33] Wrote 120 segments\n"
     ]
    }
   ],
   "source": [
    "i = 0\n",
    "print('[%s] started writing %d segments' % (timestamp(), df['segnum'].nunique()))\n",
    "for segnum, sdf in df.groupby('segnum'):\n",
    "    print('writing segment %d (len=%d)' % (segnum, len(sdf)))\n",
    "    write_seg(sdf, segnum)\n",
    "    i += 1\n",
    "    if i % 10 == 0:\n",
    "        print('[%s] Wrote %d segments' % (timestamp(), i))"
   ]
  },
  {
   "cell_type": "markdown",
   "metadata": {},
   "source": [
    "# Under the hood"
   ]
  },
  {
   "cell_type": "markdown",
   "metadata": {},
   "source": [
    "### Tensors\n",
    "\n",
    "The computational graph in TensorFlow operates on **tensors**, which are multidimensional arrays. You already know what a multidimensional array is:\n",
    "* A 1-dimensional array is a list \n",
    "> `[1, 2, 3, ...]`\n",
    "* A 2-dimensional array is a list of lists\n",
    "> `[[0, 1], [1, 2], [7, 7], [...]]`\n",
    "* A 3-dimensional array is a list of 2-dimensional arrays\n",
    "> `[[[0, 1, 1], [1, 2, 2]], [[0, 1, 2], [2, 3, 3]], [[...]]]`\n",
    "* And so on\n",
    "\n",
    "A tensor has the added condition that it must be **(hyper)rectangular**, i.e. all sub-arrays are of uniform size. For instance:\n",
    "* A 1-dimensional tensor with shape `(3,)` is a list of 3 elements\n",
    "> `[1, 2, 3]`\n",
    "* A 2-dimensional tensor with shape `(2, 3)` is a 2-element list of 3-element lists\n",
    "> `[[1, 2, 3], [3, 2, 1]]]`\n",
    "\n",
    "Something irregularly shaped like [[1, 2], [1]] cannot be a tensor, because the subarrays do not have uniform length. When we are modeling sequences, this is a very important limitation, because what if sequences have unequal length? In practice, you can *mask* values of input tensors beyond the length of the original sequence with 0's, and pad them out to the required length - typically, this is the length of the longest input sequence. So, you just make the tensor large enough to fit the longest sequence, and pad the shorter ones with 0's. That way, TensorFlow won't penalize the model for incorrect estimates beyond the length of the original input sequence."
   ]
  },
  {
   "cell_type": "markdown",
   "metadata": {},
   "source": [
    "### Ops"
   ]
  },
  {
   "cell_type": "markdown",
   "metadata": {},
   "source": [
    "An **Op** is a function that lives on the computational graph which takes an input tensor and returns an output tensor. Typically, an **op** will do something like a matrix-multiply operation in the case of two input 2-D tensors, or a dot-product, or adding a constant, or something. In the code above, the `tf.reshape` calls result in a `Reshape` **Op** being added to the graph, and those ops take in a single tensor and return a single tensor with a different shape. The more complex functions, like `LSTMCell` and `Dense`, often result in many ops being added to the graph, but you only have to worry about the shape of the input and output tensors.\n",
    "\n",
    "Keep in mind that in TensorFlow, **everything** is either a tensor or an op!"
   ]
  },
  {
   "cell_type": "markdown",
   "metadata": {},
   "source": [
    "# Visualize the ops and tensors on your graph with TensorBoard"
   ]
  },
  {
   "cell_type": "markdown",
   "metadata": {},
   "source": [
    "![tensorboard-graph](/persistent-code/graph.png)"
   ]
  },
  {
   "cell_type": "markdown",
   "metadata": {},
   "source": [
    "# Industrial strength TensorFlow"
   ]
  },
  {
   "cell_type": "markdown",
   "metadata": {},
   "source": [
    "In the Real World (R) there is a lot of scaffolding around TensorFlow which eases many common use cases. For now, we will focus on the two APIs which tackle the biggest problems, which are the two mentioned above: Creating your computational graph, and feeding data to your model."
   ]
  },
  {
   "cell_type": "markdown",
   "metadata": {},
   "source": [
    "### Easier model building with `tf.Estimator`"
   ]
  },
  {
   "cell_type": "markdown",
   "metadata": {},
   "source": [
    "To assist with building computational graphs, and to standardize the model import/export/checkpointing process, the TensorFlow team created the `tf.Estimator` API, which allows you to focus on developing the internals of your model without having to worry about acquiring a TensorFlow context, managing the state of the graph, etc. etc. At least, that was the idea. In reality, what it *actually* does is separate the complexity of managing TensorFlow's input/output semantics from the meat of your model. This does turn out to be really helpful, and you will benefit from using this API."
   ]
  },
  {
   "cell_type": "markdown",
   "metadata": {},
   "source": [
    "### Faster data pipelines with `tf.data`"
   ]
  },
  {
   "cell_type": "markdown",
   "metadata": {},
   "source": [
    "![tfdata](/persistent-code/tf-data.png)"
   ]
  },
  {
   "cell_type": "markdown",
   "metadata": {},
   "source": [
    "`tf.data` contains classes and functions which offload the data input process to an auxiliary graph which runs concurrently with your main model graph, and handles pipelining the preprocessing and batching up of your data. In practice, this makes your model train much, much faster, especially when you have tons of data-hungry GPUs."
   ]
  },
  {
   "cell_type": "markdown",
   "metadata": {},
   "source": [
    "https://cs230-stanford.github.io/tensorflow-input-data.html"
   ]
  },
  {
   "cell_type": "markdown",
   "metadata": {},
   "source": [
    "# Keep tabs on your model with TensorBoard"
   ]
  },
  {
   "cell_type": "markdown",
   "metadata": {},
   "source": [
    "![tensorboard](/persistent-code/tensorboard.png)"
   ]
  },
  {
   "cell_type": "code",
   "execution_count": null,
   "metadata": {},
   "outputs": [],
   "source": []
  }
 ],
 "metadata": {
  "kernelspec": {
   "display_name": "Python 3",
   "language": "python",
   "name": "python3"
  },
  "language_info": {
   "codemirror_mode": {
    "name": "ipython",
    "version": 3
   },
   "file_extension": ".py",
   "mimetype": "text/x-python",
   "name": "python",
   "nbconvert_exporter": "python",
   "pygments_lexer": "ipython3",
   "version": "3.5.2"
  }
 },
 "nbformat": 4,
 "nbformat_minor": 2
}
